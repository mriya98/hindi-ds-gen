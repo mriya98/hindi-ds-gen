{
  "nbformat": 4,
  "nbformat_minor": 0,
  "metadata": {
    "colab": {
      "provenance": []
    },
    "kernelspec": {
      "name": "python3",
      "display_name": "Python 3"
    },
    "language_info": {
      "name": "python"
    }
  },
  "cells": [
    {
      "cell_type": "markdown",
      "source": [
        "# Set Up"
      ],
      "metadata": {
        "id": "ui7xeY7KHKRt"
      }
    },
    {
      "cell_type": "code",
      "source": [
        "# Establish connection to drive to store dataset and trained model\n",
        "from google.colab import drive\n",
        "drive.mount('/content/drive')\n",
        "root_path = 'drive/MyDrive/Colab Notebooks'"
      ],
      "metadata": {
        "colab": {
          "base_uri": "https://localhost:8080/"
        },
        "id": "NzeswLpSHMu0",
        "outputId": "d85f9c9f-0b16-4a8f-c560-838c1acacb61"
      },
      "execution_count": 1,
      "outputs": [
        {
          "output_type": "stream",
          "name": "stdout",
          "text": [
            "Mounted at /content/drive\n"
          ]
        }
      ]
    },
    {
      "cell_type": "code",
      "source": [
        "# Imports\n",
        "from albumentations import ElasticTransform\n",
        "import cv2\n",
        "import matplotlib.pyplot as plt\n",
        "import numpy as np\n",
        "import os\n",
        "from PIL import Image, ImageDraw, ImageFont, ImageOps\n",
        "import random\n",
        "import torchvision\n",
        "from torchvision import transforms\n",
        "from torchvision.transforms import GaussianBlur\n",
        "import uuid"
      ],
      "metadata": {
        "id": "cWlwfUjHHxh8",
        "colab": {
          "base_uri": "https://localhost:8080/"
        },
        "outputId": "15b11259-931b-497b-feea-dc794f73ae22"
      },
      "execution_count": 2,
      "outputs": [
        {
          "output_type": "stream",
          "name": "stderr",
          "text": [
            "/usr/local/lib/python3.10/dist-packages/albumentations/__init__.py:13: UserWarning: A new version of Albumentations is available: 1.4.15 (you have 1.4.14). Upgrade using: pip install -U albumentations. To disable automatic update checks, set the environment variable NO_ALBUMENTATIONS_UPDATE to 1.\n",
            "  check_for_updates()\n"
          ]
        }
      ]
    },
    {
      "cell_type": "code",
      "source": [
        "import torch\n",
        "torchvision.__version__"
      ],
      "metadata": {
        "colab": {
          "base_uri": "https://localhost:8080/",
          "height": 35
        },
        "id": "TydSFHnrpGKW",
        "outputId": "e67a8e3a-9246-4384-92a9-58569c61cc9b"
      },
      "execution_count": null,
      "outputs": [
        {
          "output_type": "execute_result",
          "data": {
            "text/plain": [
              "'0.19.0+cu121'"
            ],
            "application/vnd.google.colaboratory.intrinsic+json": {
              "type": "string"
            }
          },
          "metadata": {},
          "execution_count": 8
        }
      ]
    },
    {
      "cell_type": "markdown",
      "source": [
        "# Dataset Curation"
      ],
      "metadata": {
        "id": "lmJpmtRJH1bd"
      }
    },
    {
      "cell_type": "markdown",
      "source": [
        "Dataset is curated using Google Fonts. Different font styles were downloaded that support indian languages, and their glyphs were extracted and stored in their corresponding unicode folder.\n",
        "\n",
        "Apart from latin script and devanagari script, some commonly used symbols were also included to curate this dataset. Augmentations are applied later to create more variability in the samples."
      ],
      "metadata": {
        "id": "B222KW-ZICZ_"
      }
    },
    {
      "cell_type": "markdown",
      "source": [
        "## Dataset Generation\n",
        "(To be run only once)"
      ],
      "metadata": {
        "id": "sWIT4p_XQDt3"
      }
    },
    {
      "cell_type": "code",
      "source": [
        "# Root directory for the dataset\n",
        "dataset_dir = os.path.join(root_path, 'glyph_dataset_new')\n",
        "if os.path.exists(dataset_dir):\n",
        "  print(\"Dataset already exists\")\n",
        "else:\n",
        "  os.makedirs(dataset_dir)\n",
        "\n",
        "# Define Unicode ranges for special characters and Indic scripts\n",
        "unicode_ranges = {\n",
        "    #\"latin_uppercase\": (0x0041, 0x005A),\n",
        "    #\"latin_lowercase\": (0x0061, 0x007A),\n",
        "    \"devanagari\": (0x0900, 0x097F),  # Devanagari (Hindi, Marathi, etc.)\n",
        "    #\"tamil\": (0x0B80, 0x0BFF),\n",
        "    #\"math_symbols\": (0x2200, 0x22FF),\n",
        "    \"currency_symbols\": (0x20A0, 0x20CF),\n",
        "    \"punctuation\": (0x2000, 0x206F),\n",
        "}\n",
        "\n",
        "# Get list of all TTF files\n",
        "font_folder = os.path.join(root_path, \"font_styles\")\n",
        "font_files = [file for file in os.listdir(font_folder) if os.path.isfile(os.path.join(font_folder, file))]\n"
      ],
      "metadata": {
        "id": "yaHq64MmH4Wq",
        "colab": {
          "base_uri": "https://localhost:8080/"
        },
        "outputId": "06ce9671-24c2-4914-f003-a9d790d1424c"
      },
      "execution_count": 4,
      "outputs": [
        {
          "output_type": "stream",
          "name": "stdout",
          "text": [
            "Dataset already exists\n"
          ]
        }
      ]
    },
    {
      "cell_type": "code",
      "source": [
        "font_files"
      ],
      "metadata": {
        "colab": {
          "base_uri": "https://localhost:8080/"
        },
        "id": "Am6SzQKXdv9S",
        "outputId": "11dab6e2-b687-4b3d-d4ff-94e3e9769902"
      },
      "execution_count": null,
      "outputs": [
        {
          "output_type": "execute_result",
          "data": {
            "text/plain": [
              "['OpenSans-VariableFont_wdth,wght.ttf',\n",
              " 'OpenSans-Italic-VariableFont_wdth,wght.ttf',\n",
              " 'NotoSans-Italic-VariableFont_wdth,wght.ttf',\n",
              " 'Kalam-Regular.ttf',\n",
              " 'Kalam-Light.ttf',\n",
              " 'NotoSans-VariableFont_wdth,wght.ttf',\n",
              " 'YatraOne-Regular.ttf',\n",
              " 'Laila-Medium.ttf',\n",
              " 'Laila-Regular.ttf',\n",
              " 'Laila-Light.ttf',\n",
              " 'Laila-SemiBold.ttf',\n",
              " 'Laila-Bold.ttf',\n",
              " 'Amita-Bold.ttf',\n",
              " 'Akshar-VariableFont_wght.ttf',\n",
              " 'Amita-Regular.ttf',\n",
              " 'Ranga-Regular.ttf',\n",
              " 'Ranga-Bold.ttf',\n",
              " 'Handjet-VariableFont_ELGR,ELSH,wght.ttf']"
            ]
          },
          "metadata": {},
          "execution_count": 12
        }
      ]
    },
    {
      "cell_type": "code",
      "source": [
        "# For each font style, generate and save images with random filenames, skipping blank ones\n",
        "\n",
        "for font_style in font_files:\n",
        "    font_path = os.path.join(font_folder, font_style)\n",
        "    font = ImageFont.truetype(font_path, 64)\n",
        "    for script, (start, end) in unicode_ranges.items():\n",
        "        for code in range(start, end + 1):\n",
        "            char = chr(code)\n",
        "            unicode_str = f\"U+{code:04X}\"\n",
        "\n",
        "            # Generate a random filename using UUID\n",
        "            random_filename = str(uuid.uuid4()) + \".png\"\n",
        "\n",
        "            # Create an image and draw the character\n",
        "            width, height = font.getsize(char)\n",
        "            img = Image.new(\"RGB\", (width+20, height+20), (255, 255, 255))\n",
        "            draw = ImageDraw.Draw(img)\n",
        "            draw.text((10, 10), char, font=font, fill='black')\n",
        "\n",
        "            # Check if the character is rendered or not\n",
        "            # Image is inverted to get the binding box around character if present\n",
        "            invert_img = ImageOps.invert(img)\n",
        "            bbox = invert_img.getbbox()\n",
        "            if not (bbox is None):\n",
        "              # Create directory if it doesn't exist\n",
        "              char_dir = os.path.join(dataset_dir, unicode_str)\n",
        "              if not os.path.exists(char_dir):\n",
        "                os.makedirs(char_dir)\n",
        "              # Save the image with the random filename\n",
        "              img.save(os.path.join(char_dir, random_filename))\n",
        "\n",
        "print(\"Dataset generated!\")\n"
      ],
      "metadata": {
        "colab": {
          "base_uri": "https://localhost:8080/"
        },
        "id": "zrviDq94L2g9",
        "outputId": "815ae030-71d4-44e9-acfd-7aaccbb3bc3c"
      },
      "execution_count": 5,
      "outputs": [
        {
          "output_type": "stream",
          "name": "stderr",
          "text": [
            "<ipython-input-5-3ea7215a9830>:15: DeprecationWarning: getsize is deprecated and will be removed in Pillow 10 (2023-07-01). Use getbbox or getlength instead.\n",
            "  width, height = font.getsize(char)\n"
          ]
        },
        {
          "output_type": "stream",
          "name": "stdout",
          "text": [
            "Dataset generated!\n"
          ]
        }
      ]
    },
    {
      "cell_type": "markdown",
      "source": [
        "# Data Augmentation"
      ],
      "metadata": {
        "id": "016_ammWPCrG"
      }
    },
    {
      "cell_type": "code",
      "source": [
        "def randomize_glyph_color(image):\n",
        "    image = image.convert(\"RGBA\")  # Ensure image is in RGBA mode\n",
        "\n",
        "    # Generate random color for the glyph\n",
        "    r, g, b = [random.randint(0, 255) for _ in range(3)]\n",
        "\n",
        "    # Replace the color of the glyph (assuming non-white areas are glyphs)\n",
        "    def change_color(pixel):\n",
        "        # Check if the pixel is a tuple (RGBA or RGB mode)\n",
        "        if isinstance(pixel, tuple):\n",
        "            if len(pixel) == 4:  # RGBA mode\n",
        "                r_orig, g_orig, b_orig, a = pixel\n",
        "                if a > 0:  # If the pixel is not fully transparent\n",
        "                    return (r, g, b, a)\n",
        "            elif len(pixel) == 3:  # RGB mode\n",
        "                r_orig, g_orig, b_orig = pixel\n",
        "                return (r, g, b)\n",
        "        # If the image is in grayscale (L mode) or any other single-channel mode\n",
        "        elif isinstance(pixel, int):\n",
        "            return random.randint(0, 255)  # Return a random grayscale value\n",
        "\n",
        "        return pixel  # Return the original pixel if no changes are made\n",
        "\n",
        "    # Apply the color change to the image\n",
        "    image = image.point(change_color, mode='RGBA')\n",
        "\n",
        "    return image.convert(\"RGB\")  # Convert back to RGB\n",
        "\n",
        "def elastic_transform(image):\n",
        "    transform = ElasticTransform(alpha=120, sigma=120 * 0.05, alpha_affine=None)\n",
        "    augmented = transform(image=np.array(image))['image']\n",
        "    return Image.fromarray(augmented)\n",
        "\n",
        "def add_gaussian_noise(image):\n",
        "    img_array = np.array(image)\n",
        "    mean = 0\n",
        "    stddev = 10\n",
        "    gaussian = np.random.normal(mean, stddev, img_array.shape)\n",
        "    noisy_image = img_array + gaussian\n",
        "    noisy_image = np.clip(noisy_image, 0, 255)\n",
        "    return Image.fromarray(noisy_image.astype('uint8'))\n",
        "\n",
        "def change_background_color(image, color):\n",
        "    image = image.convert(\"RGBA\")\n",
        "    background = Image.new('RGBA', image.size, color)\n",
        "    combined = Image.alpha_composite(background, image)\n",
        "    return combined.convert(\"RGB\")\n",
        "\n",
        "# Random background color augmentation\n",
        "def random_bg_color(image):\n",
        "    random_color = tuple(np.random.randint(0, 256, size=3))  # Random RGB color\n",
        "    return change_background_color(image, random_color)\n",
        "\n",
        "# Define augmentation pipeline\n",
        "augmentations = transforms.Compose([\n",
        "    transforms.RandomApply([transforms.Lambda(random_bg_color)], p=0.4),\n",
        "    transforms.RandomApply([transforms.Lambda(lambda img: randomize_glyph_color(img))], p=0.5),\n",
        "    transforms.RandomApply([transforms.Lambda(lambda img: elastic_transform(img))], p=0.2),\n",
        "    transforms.RandomApply([transforms.Lambda(lambda img: add_gaussian_noise(img))], p=0.5),\n",
        "    transforms.RandomApply([GaussianBlur(kernel_size=(5, 9), sigma=(0.1, 2.0))], p=0.3),\n",
        "    transforms.RandomApply([transforms.ColorJitter(brightness=0.3, contrast=0.3)], p=0.5),\n",
        "    transforms.RandomApply([transforms.Resize((128, 128))], p=1),\n",
        "    transforms.RandomApply([transforms.RandomRotation(degrees=(-15, 15))], p=0.3),\n",
        "    transforms.RandomApply([transforms.RandomAffine(degrees=0, translate=(0.1, 0.1))], p=0.2),\n",
        "    transforms.RandomApply([transforms.Lambda(lambda img: img.convert(\"RGB\").point(lambda p: p * random.uniform(0.5, 1.5)))], p=0.4),\n",
        "    transforms.ToTensor()\n",
        "])\n"
      ],
      "metadata": {
        "id": "YnxXA7asWBXh"
      },
      "execution_count": 6,
      "outputs": []
    },
    {
      "cell_type": "code",
      "source": [
        "from torchvision.datasets import ImageFolder\n",
        "from torch.utils.data import DataLoader\n",
        "\n",
        "# Root directory for the dataset\n",
        "dataset_dir = os.path.join(root_path, 'glyph_dataset')\n",
        "\n",
        "# Assuming your dataset is loaded using ImageFolder\n",
        "dataset = ImageFolder(root=dataset_dir, transform=augmentations)\n",
        "\n",
        "# Define a DataLoader to load the augmented data\n",
        "dataloader = DataLoader(dataset, batch_size=32, shuffle=True)\n"
      ],
      "metadata": {
        "id": "DeWBi92Umy5N"
      },
      "execution_count": 7,
      "outputs": []
    },
    {
      "cell_type": "code",
      "source": [
        "# Visualise some of the images to see how augmented ones look like\n",
        "# Get a batch of images\n",
        "data_iter = iter(dataloader)\n",
        "labels, images = next(data_iter)  # Assuming labels are available as well\n",
        "\n",
        "def imshow(img):\n",
        "    img = img / 2 + 0.5  # Unnormalize if you normalized your images earlier\n",
        "    npimg = img.numpy()\n",
        "    plt.imshow(np.transpose(npimg, (1, 2, 0)))\n",
        "    plt.axis('off')  # Hide axis\n",
        "    plt.show()\n",
        "\n",
        "# Get a batch of images\n",
        "for images, labels in dataloader:\n",
        "    # Create a grid from the batch\n",
        "    img_grid = torchvision.utils.make_grid(images)\n",
        "    # Display the grid\n",
        "    imshow(img_grid)\n",
        "    break  # Show only the first batch"
      ],
      "metadata": {
        "colab": {
          "base_uri": "https://localhost:8080/",
          "height": 285
        },
        "id": "JmqUyT5fGOSU",
        "outputId": "384a217c-4e14-419a-f6ba-284bca798c69"
      },
      "execution_count": 8,
      "outputs": [
        {
          "output_type": "display_data",
          "data": {
            "text/plain": [
              "<Figure size 640x480 with 1 Axes>"
            ],
            "image/png": "[encoded data removed]"
          },
          "metadata": {}
        }
      ]
    },
    {
      "cell_type": "code",
      "source": [
        "print(f\"The number of classes in our dataset: {len(dataset.classes)}\")\n",
        "print(f\"The number of samples in our dataset: {len(dataset)}\")"
      ],
      "metadata": {
        "colab": {
          "base_uri": "https://localhost:8080/"
        },
        "id": "snBIQH77Gz3P",
        "outputId": "5c0e43c4-2fa6-46aa-cba9-bdc1da63b625"
      },
      "execution_count": 9,
      "outputs": [
        {
          "output_type": "stream",
          "name": "stdout",
          "text": [
            "The number of classes in our dataset: 249\n",
            "The number of samples in our dataset: 3241\n"
          ]
        }
      ]
    },
    {
      "cell_type": "markdown",
      "source": [
        "Sample Code for loading dataset with augmentations, splitting it into train and test, and creating dataloaders for training and evaluation"
      ],
      "metadata": {
        "id": "ccE5uuUzRBT3"
      }
    },
    {
      "cell_type": "code",
      "source": [
        "from torch.utils.data import Subset, DataLoader\n",
        "\n",
        "# Root directory for the dataset\n",
        "dataset_dir = os.path.join(root_path, 'glyph_dataset')\n",
        "dataset = ImageFolder(root=dataset_dir, transform=augmentations)\n",
        "\n",
        "# Generate indices\n",
        "indices = np.arange(len(dataset))\n",
        "np.random.shuffle(indices)\n",
        "\n",
        "# Define split\n",
        "split = int(0.8 * len(dataset))  # 80% for training\n",
        "train_indices, test_indices = indices[:split], indices[split:]\n",
        "\n",
        "# Create subsets\n",
        "train_subset = Subset(dataset, train_indices)\n",
        "test_subset = Subset(dataset, test_indices)\n",
        "\n",
        "# Create DataLoaders\n",
        "train_loader = DataLoader(train_subset, batch_size=32, shuffle=True)\n",
        "test_loader = DataLoader(test_subset, batch_size=32, shuffle=False)\n"
      ],
      "metadata": {
        "id": "IDBqXV9HS6IT"
      },
      "execution_count": null,
      "outputs": []
    },
    {
      "cell_type": "markdown",
      "source": [
        "# Dataset from TMNIST\n",
        "\n",
        "TMNIST and TALPHA dataset"
      ],
      "metadata": {
        "id": "nzzucaDaSPnm"
      }
    },
    {
      "cell_type": "code",
      "source": [
        "%cd /content"
      ],
      "metadata": {
        "colab": {
          "base_uri": "https://localhost:8080/"
        },
        "id": "9KORUAFFV6WU",
        "outputId": "ff6c466d-f4fe-451a-d90d-9bdcb83c1531"
      },
      "execution_count": null,
      "outputs": [
        {
          "output_type": "stream",
          "name": "stdout",
          "text": [
            "/content\n"
          ]
        }
      ]
    },
    {
      "cell_type": "code",
      "source": [
        "!unzip archive_talpha.zip"
      ],
      "metadata": {
        "colab": {
          "base_uri": "https://localhost:8080/"
        },
        "id": "R5HSmiA3WTnW",
        "outputId": "f81f7e6c-add3-4804-a2a4-97257f64b3cd"
      },
      "execution_count": null,
      "outputs": [
        {
          "output_type": "stream",
          "name": "stdout",
          "text": [
            "Archive:  archive_talpha.zip\n",
            "  inflating: 94_character_TMNIST.csv  \n"
          ]
        }
      ]
    },
    {
      "cell_type": "code",
      "source": [
        "import os\n",
        "import pandas as pd\n"
      ],
      "metadata": {
        "id": "GaTNG6nwYFs-"
      },
      "execution_count": null,
      "outputs": []
    },
    {
      "cell_type": "code",
      "source": [
        "# Location of the csv file\n",
        "# /content/drive/MyDrive/Colab Notebooks/Glyphs_TMNIST_updated.csv\n",
        "csv_file = os.path.join(root_path, '94_character_TMNIST.csv')\n",
        "\n",
        "df = pd.read_csv(csv_file)\n",
        "df.head()"
      ],
      "metadata": {
        "colab": {
          "base_uri": "https://localhost:8080/",
          "height": 325
        },
        "id": "RHKKIiiPW0DR",
        "outputId": "2f9c2be7-4b7c-4db4-8ece-2999a38b125c"
      },
      "execution_count": null,
      "outputs": [
        {
          "output_type": "execute_result",
          "data": {
            "text/plain": [
              "                  names labels    1    2    3    4    5    6    7    8  ...  \\\n",
              "0         Salsa-Regular      6  0.0  0.0  0.0  0.0  0.0  0.0  0.0  0.0  ...   \n",
              "1  MouseMemoirs-Regular      D  0.0  0.0  0.0  0.0  0.0  0.0  0.0  0.0  ...   \n",
              "2     Creepster-Regular      f  0.0  0.0  0.0  0.0  0.0  0.0  0.0  0.0  ...   \n",
              "3     SeoulNamsan-Light      /  0.0  0.0  0.0  0.0  0.0  0.0  0.0  0.0  ...   \n",
              "4  HachiMaruPop-Regular      F  0.0  0.0  0.0  0.0  0.0  0.0  0.0  0.0  ...   \n",
              "\n",
              "   775  776  777  778  779  780  781  782  783  784  \n",
              "0  0.0  0.0  0.0  0.0  0.0  0.0  0.0  0.0  0.0  0.0  \n",
              "1  0.0  0.0  0.0  0.0  0.0  0.0  0.0  0.0  0.0  0.0  \n",
              "2  0.0  0.0  0.0  0.0  0.0  0.0  0.0  0.0  0.0  0.0  \n",
              "3  0.0  0.0  0.0  0.0  0.0  0.0  0.0  0.0  0.0  0.0  \n",
              "4  0.0  0.0  0.0  0.0  0.0  0.0  0.0  0.0  0.0  0.0  \n",
              "\n",
              "[5 rows x 786 columns]"
            ],
            "text/html": [
              "\n",
              "  <div id=\"df-7e411107-74df-4ad1-a5d9-e5b43dab6c02\" class=\"colab-df-container\">\n",
              "    <div>\n",
              "<style scoped>\n",
              "    .dataframe tbody tr th:only-of-type {\n",
              "        vertical-align: middle;\n",
              "    }\n",
              "\n",
              "    .dataframe tbody tr th {\n",
              "        vertical-align: top;\n",
              "    }\n",
              "\n",
              "    .dataframe thead th {\n",
              "        text-align: right;\n",
              "    }\n",
              "</style>\n",
              "<table border=\"1\" class=\"dataframe\">\n",
              "  <thead>\n",
              "    <tr style=\"text-align: right;\">\n",
              "      <th></th>\n",
              "      <th>names</th>\n",
              "      <th>labels</th>\n",
              "      <th>1</th>\n",
              "      <th>2</th>\n",
              "      <th>3</th>\n",
              "      <th>4</th>\n",
              "      <th>5</th>\n",
              "      <th>6</th>\n",
              "      <th>7</th>\n",
              "      <th>8</th>\n",
              "      <th>...</th>\n",
              "      <th>775</th>\n",
              "      <th>776</th>\n",
              "      <th>777</th>\n",
              "      <th>778</th>\n",
              "      <th>779</th>\n",
              "      <th>780</th>\n",
              "      <th>781</th>\n",
              "      <th>782</th>\n",
              "      <th>783</th>\n",
              "      <th>784</th>\n",
              "    </tr>\n",
              "  </thead>\n",
              "  <tbody>\n",
              "    <tr>\n",
              "      <th>0</th>\n",
              "      <td>Salsa-Regular</td>\n",
              "      <td>6</td>\n",
              "      <td>0.0</td>\n",
              "      <td>0.0</td>\n",
              "      <td>0.0</td>\n",
              "      <td>0.0</td>\n",
              "      <td>0.0</td>\n",
              "      <td>0.0</td>\n",
              "      <td>0.0</td>\n",
              "      <td>0.0</td>\n",
              "      <td>...</td>\n",
              "      <td>0.0</td>\n",
              "      <td>0.0</td>\n",
              "      <td>0.0</td>\n",
              "      <td>0.0</td>\n",
              "      <td>0.0</td>\n",
              "      <td>0.0</td>\n",
              "      <td>0.0</td>\n",
              "      <td>0.0</td>\n",
              "      <td>0.0</td>\n",
              "      <td>0.0</td>\n",
              "    </tr>\n",
              "    <tr>\n",
              "      <th>1</th>\n",
              "      <td>MouseMemoirs-Regular</td>\n",
              "      <td>D</td>\n",
              "      <td>0.0</td>\n",
              "      <td>0.0</td>\n",
              "      <td>0.0</td>\n",
              "      <td>0.0</td>\n",
              "      <td>0.0</td>\n",
              "      <td>0.0</td>\n",
              "      <td>0.0</td>\n",
              "      <td>0.0</td>\n",
              "      <td>...</td>\n",
              "      <td>0.0</td>\n",
              "      <td>0.0</td>\n",
              "      <td>0.0</td>\n",
              "      <td>0.0</td>\n",
              "      <td>0.0</td>\n",
              "      <td>0.0</td>\n",
              "      <td>0.0</td>\n",
              "      <td>0.0</td>\n",
              "      <td>0.0</td>\n",
              "      <td>0.0</td>\n",
              "    </tr>\n",
              "    <tr>\n",
              "      <th>2</th>\n",
              "      <td>Creepster-Regular</td>\n",
              "      <td>f</td>\n",
              "      <td>0.0</td>\n",
              "      <td>0.0</td>\n",
              "      <td>0.0</td>\n",
              "      <td>0.0</td>\n",
              "      <td>0.0</td>\n",
              "      <td>0.0</td>\n",
              "      <td>0.0</td>\n",
              "      <td>0.0</td>\n",
              "      <td>...</td>\n",
              "      <td>0.0</td>\n",
              "      <td>0.0</td>\n",
              "      <td>0.0</td>\n",
              "      <td>0.0</td>\n",
              "      <td>0.0</td>\n",
              "      <td>0.0</td>\n",
              "      <td>0.0</td>\n",
              "      <td>0.0</td>\n",
              "      <td>0.0</td>\n",
              "      <td>0.0</td>\n",
              "    </tr>\n",
              "    <tr>\n",
              "      <th>3</th>\n",
              "      <td>SeoulNamsan-Light</td>\n",
              "      <td>/</td>\n",
              "      <td>0.0</td>\n",
              "      <td>0.0</td>\n",
              "      <td>0.0</td>\n",
              "      <td>0.0</td>\n",
              "      <td>0.0</td>\n",
              "      <td>0.0</td>\n",
              "      <td>0.0</td>\n",
              "      <td>0.0</td>\n",
              "      <td>...</td>\n",
              "      <td>0.0</td>\n",
              "      <td>0.0</td>\n",
              "      <td>0.0</td>\n",
              "      <td>0.0</td>\n",
              "      <td>0.0</td>\n",
              "      <td>0.0</td>\n",
              "      <td>0.0</td>\n",
              "      <td>0.0</td>\n",
              "      <td>0.0</td>\n",
              "      <td>0.0</td>\n",
              "    </tr>\n",
              "    <tr>\n",
              "      <th>4</th>\n",
              "      <td>HachiMaruPop-Regular</td>\n",
              "      <td>F</td>\n",
              "      <td>0.0</td>\n",
              "      <td>0.0</td>\n",
              "      <td>0.0</td>\n",
              "      <td>0.0</td>\n",
              "      <td>0.0</td>\n",
              "      <td>0.0</td>\n",
              "      <td>0.0</td>\n",
              "      <td>0.0</td>\n",
              "      <td>...</td>\n",
              "      <td>0.0</td>\n",
              "      <td>0.0</td>\n",
              "      <td>0.0</td>\n",
              "      <td>0.0</td>\n",
              "      <td>0.0</td>\n",
              "      <td>0.0</td>\n",
              "      <td>0.0</td>\n",
              "      <td>0.0</td>\n",
              "      <td>0.0</td>\n",
              "      <td>0.0</td>\n",
              "    </tr>\n",
              "  </tbody>\n",
              "</table>\n",
              "<p>5 rows × 786 columns</p>\n",
              "</div>\n",
              "    <div class=\"colab-df-buttons\">\n",
              "\n",
              "  <div class=\"colab-df-container\">\n",
              "    <button class=\"colab-df-convert\" onclick=\"convertToInteractive('df-7e411107-74df-4ad1-a5d9-e5b43dab6c02')\"\n",
              "            title=\"Convert this dataframe to an interactive table.\"\n",
              "            style=\"display:none;\">\n",
              "\n",
              "  <svg xmlns=\"http://www.w3.org/2000/svg\" height=\"24px\" viewBox=\"0 -960 960 960\">\n",
              "    <path d=\"M120-120v-720h720v720H120Zm60-500h600v-160H180v160Zm220 220h160v-160H400v160Zm0 220h160v-160H400v160ZM180-400h160v-160H180v160Zm440 0h160v-160H620v160ZM180-180h160v-160H180v160Zm440 0h160v-160H620v160Z\"/>\n",
              "  </svg>\n",
              "    </button>\n",
              "\n",
              "  <style>\n",
              "    .colab-df-container {\n",
              "      display:flex;\n",
              "      gap: 12px;\n",
              "    }\n",
              "\n",
              "    .colab-df-convert {\n",
              "      background-color: #E8F0FE;\n",
              "      border: none;\n",
              "      border-radius: 50%;\n",
              "      cursor: pointer;\n",
              "      display: none;\n",
              "      fill: #1967D2;\n",
              "      height: 32px;\n",
              "      padding: 0 0 0 0;\n",
              "      width: 32px;\n",
              "    }\n",
              "\n",
              "    .colab-df-convert:hover {\n",
              "      background-color: #E2EBFA;\n",
              "      box-shadow: 0px 1px 2px rgba(60, 64, 67, 0.3), 0px 1px 3px 1px rgba(60, 64, 67, 0.15);\n",
              "      fill: #174EA6;\n",
              "    }\n",
              "\n",
              "    .colab-df-buttons div {\n",
              "      margin-bottom: 4px;\n",
              "    }\n",
              "\n",
              "    [theme=dark] .colab-df-convert {\n",
              "      background-color: #3B4455;\n",
              "      fill: #D2E3FC;\n",
              "    }\n",
              "\n",
              "    [theme=dark] .colab-df-convert:hover {\n",
              "      background-color: #434B5C;\n",
              "      box-shadow: 0px 1px 3px 1px rgba(0, 0, 0, 0.15);\n",
              "      filter: drop-shadow(0px 1px 2px rgba(0, 0, 0, 0.3));\n",
              "      fill: #FFFFFF;\n",
              "    }\n",
              "  </style>\n",
              "\n",
              "    <script>\n",
              "      const buttonEl =\n",
              "        document.querySelector('#df-7e411107-74df-4ad1-a5d9-e5b43dab6c02 button.colab-df-convert');\n",
              "      buttonEl.style.display =\n",
              "        google.colab.kernel.accessAllowed ? 'block' : 'none';\n",
              "\n",
              "      async function convertToInteractive(key) {\n",
              "        const element = document.querySelector('#df-7e411107-74df-4ad1-a5d9-e5b43dab6c02');\n",
              "        const dataTable =\n",
              "          await google.colab.kernel.invokeFunction('convertToInteractive',\n",
              "                                                    [key], {});\n",
              "        if (!dataTable) return;\n",
              "\n",
              "        const docLinkHtml = 'Like what you see? Visit the ' +\n",
              "          '<a target=\"_blank\" href=https://colab.research.google.com/notebooks/data_table.ipynb>data table notebook</a>'\n",
              "          + ' to learn more about interactive tables.';\n",
              "        element.innerHTML = '';\n",
              "        dataTable['output_type'] = 'display_data';\n",
              "        await google.colab.output.renderOutput(dataTable, element);\n",
              "        const docLink = document.createElement('div');\n",
              "        docLink.innerHTML = docLinkHtml;\n",
              "        element.appendChild(docLink);\n",
              "      }\n",
              "    </script>\n",
              "  </div>\n",
              "\n",
              "\n",
              "<div id=\"df-5cd3b729-3599-4a23-8a42-ba33c5e8b0cc\">\n",
              "  <button class=\"colab-df-quickchart\" onclick=\"quickchart('df-5cd3b729-3599-4a23-8a42-ba33c5e8b0cc')\"\n",
              "            title=\"Suggest charts\"\n",
              "            style=\"display:none;\">\n",
              "\n",
              "<svg xmlns=\"http://www.w3.org/2000/svg\" height=\"24px\"viewBox=\"0 0 24 24\"\n",
              "     width=\"24px\">\n",
              "    <g>\n",
              "        <path d=\"M19 3H5c-1.1 0-2 .9-2 2v14c0 1.1.9 2 2 2h14c1.1 0 2-.9 2-2V5c0-1.1-.9-2-2-2zM9 17H7v-7h2v7zm4 0h-2V7h2v10zm4 0h-2v-4h2v4z\"/>\n",
              "    </g>\n",
              "</svg>\n",
              "  </button>\n",
              "\n",
              "<style>\n",
              "  .colab-df-quickchart {\n",
              "      --bg-color: #E8F0FE;\n",
              "      --fill-color: #1967D2;\n",
              "      --hover-bg-color: #E2EBFA;\n",
              "      --hover-fill-color: #174EA6;\n",
              "      --disabled-fill-color: #AAA;\n",
              "      --disabled-bg-color: #DDD;\n",
              "  }\n",
              "\n",
              "  [theme=dark] .colab-df-quickchart {\n",
              "      --bg-color: #3B4455;\n",
              "      --fill-color: #D2E3FC;\n",
              "      --hover-bg-color: #434B5C;\n",
              "      --hover-fill-color: #FFFFFF;\n",
              "      --disabled-bg-color: #3B4455;\n",
              "      --disabled-fill-color: #666;\n",
              "  }\n",
              "\n",
              "  .colab-df-quickchart {\n",
              "    background-color: var(--bg-color);\n",
              "    border: none;\n",
              "    border-radius: 50%;\n",
              "    cursor: pointer;\n",
              "    display: none;\n",
              "    fill: var(--fill-color);\n",
              "    height: 32px;\n",
              "    padding: 0;\n",
              "    width: 32px;\n",
              "  }\n",
              "\n",
              "  .colab-df-quickchart:hover {\n",
              "    background-color: var(--hover-bg-color);\n",
              "    box-shadow: 0 1px 2px rgba(60, 64, 67, 0.3), 0 1px 3px 1px rgba(60, 64, 67, 0.15);\n",
              "    fill: var(--button-hover-fill-color);\n",
              "  }\n",
              "\n",
              "  .colab-df-quickchart-complete:disabled,\n",
              "  .colab-df-quickchart-complete:disabled:hover {\n",
              "    background-color: var(--disabled-bg-color);\n",
              "    fill: var(--disabled-fill-color);\n",
              "    box-shadow: none;\n",
              "  }\n",
              "\n",
              "  .colab-df-spinner {\n",
              "    border: 2px solid var(--fill-color);\n",
              "    border-color: transparent;\n",
              "    border-bottom-color: var(--fill-color);\n",
              "    animation:\n",
              "      spin 1s steps(1) infinite;\n",
              "  }\n",
              "\n",
              "  @keyframes spin {\n",
              "    0% {\n",
              "      border-color: transparent;\n",
              "      border-bottom-color: var(--fill-color);\n",
              "      border-left-color: var(--fill-color);\n",
              "    }\n",
              "    20% {\n",
              "      border-color: transparent;\n",
              "      border-left-color: var(--fill-color);\n",
              "      border-top-color: var(--fill-color);\n",
              "    }\n",
              "    30% {\n",
              "      border-color: transparent;\n",
              "      border-left-color: var(--fill-color);\n",
              "      border-top-color: var(--fill-color);\n",
              "      border-right-color: var(--fill-color);\n",
              "    }\n",
              "    40% {\n",
              "      border-color: transparent;\n",
              "      border-right-color: var(--fill-color);\n",
              "      border-top-color: var(--fill-color);\n",
              "    }\n",
              "    60% {\n",
              "      border-color: transparent;\n",
              "      border-right-color: var(--fill-color);\n",
              "    }\n",
              "    80% {\n",
              "      border-color: transparent;\n",
              "      border-right-color: var(--fill-color);\n",
              "      border-bottom-color: var(--fill-color);\n",
              "    }\n",
              "    90% {\n",
              "      border-color: transparent;\n",
              "      border-bottom-color: var(--fill-color);\n",
              "    }\n",
              "  }\n",
              "</style>\n",
              "\n",
              "  <script>\n",
              "    async function quickchart(key) {\n",
              "      const quickchartButtonEl =\n",
              "        document.querySelector('#' + key + ' button');\n",
              "      quickchartButtonEl.disabled = true;  // To prevent multiple clicks.\n",
              "      quickchartButtonEl.classList.add('colab-df-spinner');\n",
              "      try {\n",
              "        const charts = await google.colab.kernel.invokeFunction(\n",
              "            'suggestCharts', [key], {});\n",
              "      } catch (error) {\n",
              "        console.error('Error during call to suggestCharts:', error);\n",
              "      }\n",
              "      quickchartButtonEl.classList.remove('colab-df-spinner');\n",
              "      quickchartButtonEl.classList.add('colab-df-quickchart-complete');\n",
              "    }\n",
              "    (() => {\n",
              "      let quickchartButtonEl =\n",
              "        document.querySelector('#df-5cd3b729-3599-4a23-8a42-ba33c5e8b0cc button');\n",
              "      quickchartButtonEl.style.display =\n",
              "        google.colab.kernel.accessAllowed ? 'block' : 'none';\n",
              "    })();\n",
              "  </script>\n",
              "</div>\n",
              "\n",
              "    </div>\n",
              "  </div>\n"
            ],
            "application/vnd.google.colaboratory.intrinsic+json": {
              "type": "dataframe",
              "variable_name": "df"
            }
          },
          "metadata": {},
          "execution_count": 5
        }
      ]
    },
    {
      "cell_type": "code",
      "source": [
        "# Get total number of samples\n",
        "print(f\"Total number of samples: {len(df)}\")\n",
        "# Get total number of unique values in column 'glyph_name'\n",
        "print(f\"Total number of unique glyphs: {len(df['glyph_name'].unique())}\")"
      ],
      "metadata": {
        "colab": {
          "base_uri": "https://localhost:8080/"
        },
        "id": "SgsoNcFYZus6",
        "outputId": "48cddd12-7e8b-49bc-b8cf-dba0830aaaac"
      },
      "execution_count": null,
      "outputs": [
        {
          "output_type": "stream",
          "name": "stdout",
          "text": [
            "Total number of samples: 565292\n",
            "Total number of unique glyphs: 1819\n"
          ]
        }
      ]
    },
    {
      "cell_type": "code",
      "source": [
        "# Get number of samples for each unique 'glyph_name'\n",
        "df['glyph_name'].value_counts()"
      ],
      "metadata": {
        "colab": {
          "base_uri": "https://localhost:8080/",
          "height": 489
        },
        "id": "vuA5OluGCYeZ",
        "outputId": "413c324f-4813-474a-c773-ab687e151a1e"
      },
      "execution_count": null,
      "outputs": [
        {
          "output_type": "execute_result",
          "data": {
            "text/plain": [
              "glyph_name\n",
              "APOSTROPHE            3005\n",
              "QUOTATION MARK        3004\n",
              "DIGIT TWO             2990\n",
              "DIGIT SEVEN           2990\n",
              "DIGIT THREE           2990\n",
              "                      ... \n",
              "TIBETAN LETTER SA        2\n",
              "TIBETAN LETTER SHA       2\n",
              "TIBETAN LETTER LA        2\n",
              "TIBETAN LETTER RA        2\n",
              "TIBETAN LETTER GA        2\n",
              "Name: count, Length: 1819, dtype: int64"
            ],
            "text/html": [
              "<div>\n",
              "<style scoped>\n",
              "    .dataframe tbody tr th:only-of-type {\n",
              "        vertical-align: middle;\n",
              "    }\n",
              "\n",
              "    .dataframe tbody tr th {\n",
              "        vertical-align: top;\n",
              "    }\n",
              "\n",
              "    .dataframe thead th {\n",
              "        text-align: right;\n",
              "    }\n",
              "</style>\n",
              "<table border=\"1\" class=\"dataframe\">\n",
              "  <thead>\n",
              "    <tr style=\"text-align: right;\">\n",
              "      <th></th>\n",
              "      <th>count</th>\n",
              "    </tr>\n",
              "    <tr>\n",
              "      <th>glyph_name</th>\n",
              "      <th></th>\n",
              "    </tr>\n",
              "  </thead>\n",
              "  <tbody>\n",
              "    <tr>\n",
              "      <th>APOSTROPHE</th>\n",
              "      <td>3005</td>\n",
              "    </tr>\n",
              "    <tr>\n",
              "      <th>QUOTATION MARK</th>\n",
              "      <td>3004</td>\n",
              "    </tr>\n",
              "    <tr>\n",
              "      <th>DIGIT TWO</th>\n",
              "      <td>2990</td>\n",
              "    </tr>\n",
              "    <tr>\n",
              "      <th>DIGIT SEVEN</th>\n",
              "      <td>2990</td>\n",
              "    </tr>\n",
              "    <tr>\n",
              "      <th>DIGIT THREE</th>\n",
              "      <td>2990</td>\n",
              "    </tr>\n",
              "    <tr>\n",
              "      <th>...</th>\n",
              "      <td>...</td>\n",
              "    </tr>\n",
              "    <tr>\n",
              "      <th>TIBETAN LETTER SA</th>\n",
              "      <td>2</td>\n",
              "    </tr>\n",
              "    <tr>\n",
              "      <th>TIBETAN LETTER SHA</th>\n",
              "      <td>2</td>\n",
              "    </tr>\n",
              "    <tr>\n",
              "      <th>TIBETAN LETTER LA</th>\n",
              "      <td>2</td>\n",
              "    </tr>\n",
              "    <tr>\n",
              "      <th>TIBETAN LETTER RA</th>\n",
              "      <td>2</td>\n",
              "    </tr>\n",
              "    <tr>\n",
              "      <th>TIBETAN LETTER GA</th>\n",
              "      <td>2</td>\n",
              "    </tr>\n",
              "  </tbody>\n",
              "</table>\n",
              "<p>1819 rows × 1 columns</p>\n",
              "</div><br><label><b>dtype:</b> int64</label>"
            ]
          },
          "metadata": {},
          "execution_count": 10
        }
      ]
    },
    {
      "cell_type": "code",
      "source": [
        "# Save g\n",
        "df['glyph_name'].value_counts().plot(kind='bar')"
      ],
      "metadata": {
        "colab": {
          "base_uri": "https://localhost:8080/",
          "height": 873
        },
        "id": "hehKrtipaLlV",
        "outputId": "177e9f14-bf40-4ef4-e6bd-960f60d3fdc5"
      },
      "execution_count": null,
      "outputs": [
        {
          "output_type": "execute_result",
          "data": {
            "text/plain": [
              "<Axes: xlabel='glyph_name'>"
            ]
          },
          "metadata": {},
          "execution_count": 24
        },
        {
          "output_type": "display_data",
          "data": {
            "text/plain": [
              "<Figure size 640x480 with 1 Axes>"
            ],
            "image/png": "[encoded data removed]"
          },
          "metadata": {}
        }
      ]
    },
    {
      "cell_type": "code",
      "source": [
        "# Define Unicode ranges for special characters and Indic scripts\n",
        "unicode_ranges = {\n",
        "    \"latin_uppercase\": (0x0041, 0x005A),\n",
        "    \"latin_lowercase\": (0x0061, 0x007A),\n",
        "    \"devanagari\": (0x0900, 0x097F),  # Devanagari (Hindi, Marathi, etc.)\n",
        "    #\"tamil\": (0x0B80, 0x0BFF),\n",
        "    \"math_symbols\": (0x2200, 0x22FF),\n",
        "    \"currency_symbols\": (0x20A0, 0x20CF),\n",
        "    \"punctuation\": (0x2000, 0x206F),\n",
        "}\n",
        "\n",
        "useful_unicodes = []\n",
        "for script, (start, end) in unicode_ranges.items():\n",
        "        for code in range(start, end + 1):\n",
        "            char = chr(code)\n",
        "            unicode_str = f\"0x{code:04X}\"\n",
        "            useful_unicodes.append(unicode_str)"
      ],
      "metadata": {
        "id": "R8MDLH9bIDA3"
      },
      "execution_count": null,
      "outputs": []
    },
    {
      "cell_type": "code",
      "source": [
        "print(useful_unicodes)"
      ],
      "metadata": {
        "colab": {
          "base_uri": "https://localhost:8080/"
        },
        "id": "FXQHij3RKys1",
        "outputId": "d68c683d-fd90-4bce-81b6-5e780568dd1d"
      },
      "execution_count": null,
      "outputs": [
        {
          "output_type": "stream",
          "name": "stdout",
          "text": [
            "['0x0041', '0x0042', '0x0043', '0x0044', '0x0045', '0x0046', '0x0047', '0x0048', '0x0049', '0x004A', '0x004B', '0x004C', '0x004D', '0x004E', '0x004F', '0x0050', '0x0051', '0x0052', '0x0053', '0x0054', '0x0055', '0x0056', '0x0057', '0x0058', '0x0059', '0x005A', '0x0061', '0x0062', '0x0063', '0x0064', '0x0065', '0x0066', '0x0067', '0x0068', '0x0069', '0x006A', '0x006B', '0x006C', '0x006D', '0x006E', '0x006F', '0x0070', '0x0071', '0x0072', '0x0073', '0x0074', '0x0075', '0x0076', '0x0077', '0x0078', '0x0079', '0x007A', '0x0900', '0x0901', '0x0902', '0x0903', '0x0904', '0x0905', '0x0906', '0x0907', '0x0908', '0x0909', '0x090A', '0x090B', '0x090C', '0x090D', '0x090E', '0x090F', '0x0910', '0x0911', '0x0912', '0x0913', '0x0914', '0x0915', '0x0916', '0x0917', '0x0918', '0x0919', '0x091A', '0x091B', '0x091C', '0x091D', '0x091E', '0x091F', '0x0920', '0x0921', '0x0922', '0x0923', '0x0924', '0x0925', '0x0926', '0x0927', '0x0928', '0x0929', '0x092A', '0x092B', '0x092C', '0x092D', '0x092E', '0x092F', '0x0930', '0x0931', '0x0932', '0x0933', '0x0934', '0x0935', '0x0936', '0x0937', '0x0938', '0x0939', '0x093A', '0x093B', '0x093C', '0x093D', '0x093E', '0x093F', '0x0940', '0x0941', '0x0942', '0x0943', '0x0944', '0x0945', '0x0946', '0x0947', '0x0948', '0x0949', '0x094A', '0x094B', '0x094C', '0x094D', '0x094E', '0x094F', '0x0950', '0x0951', '0x0952', '0x0953', '0x0954', '0x0955', '0x0956', '0x0957', '0x0958', '0x0959', '0x095A', '0x095B', '0x095C', '0x095D', '0x095E', '0x095F', '0x0960', '0x0961', '0x0962', '0x0963', '0x0964', '0x0965', '0x0966', '0x0967', '0x0968', '0x0969', '0x096A', '0x096B', '0x096C', '0x096D', '0x096E', '0x096F', '0x0970', '0x0971', '0x0972', '0x0973', '0x0974', '0x0975', '0x0976', '0x0977', '0x0978', '0x0979', '0x097A', '0x097B', '0x097C', '0x097D', '0x097E', '0x097F', '0x2200', '0x2201', '0x2202', '0x2203', '0x2204', '0x2205', '0x2206', '0x2207', '0x2208', '0x2209', '0x220A', '0x220B', '0x220C', '0x220D', '0x220E', '0x220F', '0x2210', '0x2211', '0x2212', '0x2213', '0x2214', '0x2215', '0x2216', '0x2217', '0x2218', '0x2219', '0x221A', '0x221B', '0x221C', '0x221D', '0x221E', '0x221F', '0x2220', '0x2221', '0x2222', '0x2223', '0x2224', '0x2225', '0x2226', '0x2227', '0x2228', '0x2229', '0x222A', '0x222B', '0x222C', '0x222D', '0x222E', '0x222F', '0x2230', '0x2231', '0x2232', '0x2233', '0x2234', '0x2235', '0x2236', '0x2237', '0x2238', '0x2239', '0x223A', '0x223B', '0x223C', '0x223D', '0x223E', '0x223F', '0x2240', '0x2241', '0x2242', '0x2243', '0x2244', '0x2245', '0x2246', '0x2247', '0x2248', '0x2249', '0x224A', '0x224B', '0x224C', '0x224D', '0x224E', '0x224F', '0x2250', '0x2251', '0x2252', '0x2253', '0x2254', '0x2255', '0x2256', '0x2257', '0x2258', '0x2259', '0x225A', '0x225B', '0x225C', '0x225D', '0x225E', '0x225F', '0x2260', '0x2261', '0x2262', '0x2263', '0x2264', '0x2265', '0x2266', '0x2267', '0x2268', '0x2269', '0x226A', '0x226B', '0x226C', '0x226D', '0x226E', '0x226F', '0x2270', '0x2271', '0x2272', '0x2273', '0x2274', '0x2275', '0x2276', '0x2277', '0x2278', '0x2279', '0x227A', '0x227B', '0x227C', '0x227D', '0x227E', '0x227F', '0x2280', '0x2281', '0x2282', '0x2283', '0x2284', '0x2285', '0x2286', '0x2287', '0x2288', '0x2289', '0x228A', '0x228B', '0x228C', '0x228D', '0x228E', '0x228F', '0x2290', '0x2291', '0x2292', '0x2293', '0x2294', '0x2295', '0x2296', '0x2297', '0x2298', '0x2299', '0x229A', '0x229B', '0x229C', '0x229D', '0x229E', '0x229F', '0x22A0', '0x22A1', '0x22A2', '0x22A3', '0x22A4', '0x22A5', '0x22A6', '0x22A7', '0x22A8', '0x22A9', '0x22AA', '0x22AB', '0x22AC', '0x22AD', '0x22AE', '0x22AF', '0x22B0', '0x22B1', '0x22B2', '0x22B3', '0x22B4', '0x22B5', '0x22B6', '0x22B7', '0x22B8', '0x22B9', '0x22BA', '0x22BB', '0x22BC', '0x22BD', '0x22BE', '0x22BF', '0x22C0', '0x22C1', '0x22C2', '0x22C3', '0x22C4', '0x22C5', '0x22C6', '0x22C7', '0x22C8', '0x22C9', '0x22CA', '0x22CB', '0x22CC', '0x22CD', '0x22CE', '0x22CF', '0x22D0', '0x22D1', '0x22D2', '0x22D3', '0x22D4', '0x22D5', '0x22D6', '0x22D7', '0x22D8', '0x22D9', '0x22DA', '0x22DB', '0x22DC', '0x22DD', '0x22DE', '0x22DF', '0x22E0', '0x22E1', '0x22E2', '0x22E3', '0x22E4', '0x22E5', '0x22E6', '0x22E7', '0x22E8', '0x22E9', '0x22EA', '0x22EB', '0x22EC', '0x22ED', '0x22EE', '0x22EF', '0x22F0', '0x22F1', '0x22F2', '0x22F3', '0x22F4', '0x22F5', '0x22F6', '0x22F7', '0x22F8', '0x22F9', '0x22FA', '0x22FB', '0x22FC', '0x22FD', '0x22FE', '0x22FF', '0x20A0', '0x20A1', '0x20A2', '0x20A3', '0x20A4', '0x20A5', '0x20A6', '0x20A7', '0x20A8', '0x20A9', '0x20AA', '0x20AB', '0x20AC', '0x20AD', '0x20AE', '0x20AF', '0x20B0', '0x20B1', '0x20B2', '0x20B3', '0x20B4', '0x20B5', '0x20B6', '0x20B7', '0x20B8', '0x20B9', '0x20BA', '0x20BB', '0x20BC', '0x20BD', '0x20BE', '0x20BF', '0x20C0', '0x20C1', '0x20C2', '0x20C3', '0x20C4', '0x20C5', '0x20C6', '0x20C7', '0x20C8', '0x20C9', '0x20CA', '0x20CB', '0x20CC', '0x20CD', '0x20CE', '0x20CF', '0x2000', '0x2001', '0x2002', '0x2003', '0x2004', '0x2005', '0x2006', '0x2007', '0x2008', '0x2009', '0x200A', '0x200B', '0x200C', '0x200D', '0x200E', '0x200F', '0x2010', '0x2011', '0x2012', '0x2013', '0x2014', '0x2015', '0x2016', '0x2017', '0x2018', '0x2019', '0x201A', '0x201B', '0x201C', '0x201D', '0x201E', '0x201F', '0x2020', '0x2021', '0x2022', '0x2023', '0x2024', '0x2025', '0x2026', '0x2027', '0x2028', '0x2029', '0x202A', '0x202B', '0x202C', '0x202D', '0x202E', '0x202F', '0x2030', '0x2031', '0x2032', '0x2033', '0x2034', '0x2035', '0x2036', '0x2037', '0x2038', '0x2039', '0x203A', '0x203B', '0x203C', '0x203D', '0x203E', '0x203F', '0x2040', '0x2041', '0x2042', '0x2043', '0x2044', '0x2045', '0x2046', '0x2047', '0x2048', '0x2049', '0x204A', '0x204B', '0x204C', '0x204D', '0x204E', '0x204F', '0x2050', '0x2051', '0x2052', '0x2053', '0x2054', '0x2055', '0x2056', '0x2057', '0x2058', '0x2059', '0x205A', '0x205B', '0x205C', '0x205D', '0x205E', '0x205F', '0x2060', '0x2061', '0x2062', '0x2063', '0x2064', '0x2065', '0x2066', '0x2067', '0x2068', '0x2069', '0x206A', '0x206B', '0x206C', '0x206D', '0x206E', '0x206F']\n"
          ]
        }
      ]
    },
    {
      "cell_type": "code",
      "source": [
        "# There is a lot class imbalance. let us start by filtering out samples that we dont need\n",
        "# Using label column in df, get all unique labels and then find and store corresponding hex unicode for them\n",
        "label_list = df['label'].unique()\n",
        "useful_labels = []\n",
        "tmp = []\n",
        "for label in label_list:\n",
        "  hex_code = f\"0x{ord(label[0]):04X}\"\n",
        "  tmp.append(hex_code)\n",
        "  if hex_code in useful_unicodes:\n",
        "    useful_labels.append(label)\n"
      ],
      "metadata": {
        "id": "CTaYAbRYDaKL"
      },
      "execution_count": null,
      "outputs": []
    },
    {
      "cell_type": "code",
      "source": [
        "print(useful_labels)"
      ],
      "metadata": {
        "colab": {
          "base_uri": "https://localhost:8080/"
        },
        "id": "w5QwphcKZFQf",
        "outputId": "66f6cb68-f9f6-4a53-ec1d-2f47ed94e9a4"
      },
      "execution_count": null,
      "outputs": [
        {
          "output_type": "stream",
          "name": "stdout",
          "text": [
            "['A', 'B', 'C', 'D', 'E', 'F', 'G', 'H', 'I', 'J', 'K', 'L', 'M', 'N', 'O', 'P', 'Q', 'R', 'S', 'T', 'U', 'V', 'W', 'X', 'Y', 'Z', 'a', 'b', 'c', 'd', 'e', 'f', 'g', 'h', 'i', 'j', 'k', 'l', 'm', 'n', 'o', 'p', 'q', 'r', 's', 't', 'u', 'v', 'w', 'x', 'y', 'z', '‘', '’', '“', '”', '€', '₹', '₪', 'आ', 'ई', 'ऊ', 'ऋ', 'ॠ', 'ऌ', 'ॡ', 'ऐ', 'औ', 'ऎ', 'अं', 'अँ', 'क', 'ख', 'ग', 'घ', 'ङ', 'च', 'छ', 'ज', 'झ', 'ञ', 'ट', 'ठ', 'ड', 'ढ', 'ण', 'त', 'थ', 'द', 'ध', 'न', 'प', 'फ', 'ब', 'भ', 'य', 'र', 'व', 'ळ', 'श', 'ष', 'स', 'ह', '०', '१', '२', '३', '४', '५', '६', '७', '८', '९']\n"
          ]
        }
      ]
    },
    {
      "cell_type": "code",
      "source": [
        "if \"0x0954\" in useful_unicodes:\n",
        "  print(\"yes\")"
      ],
      "metadata": {
        "colab": {
          "base_uri": "https://localhost:8080/"
        },
        "id": "o6SC7qRMZ5i2",
        "outputId": "dfdab534-1055-4ea7-b674-8440c4613461"
      },
      "execution_count": null,
      "outputs": [
        {
          "output_type": "stream",
          "name": "stdout",
          "text": [
            "yes\n"
          ]
        }
      ]
    },
    {
      "cell_type": "code",
      "source": [
        "df.label[1159][1]"
      ],
      "metadata": {
        "colab": {
          "base_uri": "https://localhost:8080/",
          "height": 35
        },
        "id": "khb-mGclGymM",
        "outputId": "d98ece32-0cf8-4f7b-ea63-012eff19f01b"
      },
      "execution_count": null,
      "outputs": [
        {
          "output_type": "execute_result",
          "data": {
            "text/plain": [
              "'ං'"
            ],
            "application/vnd.google.colaboratory.intrinsic+json": {
              "type": "string"
            }
          },
          "metadata": {},
          "execution_count": 57
        }
      ]
    },
    {
      "cell_type": "code",
      "source": [
        "# Exyract samples with useful_labels in them\n",
        "\n",
        "filtered_df = df[df['label'].isin(useful_labels)]\n",
        "filtered_df = filtered_df.drop(columns=['font_name', 'glyph_name'])\n",
        "# Print length of filtered df\n",
        "print(f\"Length of filtered df: {len(filtered_df)}\")"
      ],
      "metadata": {
        "colab": {
          "base_uri": "https://localhost:8080/"
        },
        "id": "5aTEZcvAeLoR",
        "outputId": "1ee36ad4-9654-467d-e712-4f0a414133c7"
      },
      "execution_count": null,
      "outputs": [
        {
          "output_type": "stream",
          "name": "stdout",
          "text": [
            "Length of filtered df: 175445\n"
          ]
        }
      ]
    },
    {
      "cell_type": "code",
      "source": [
        "filtered_df.head()"
      ],
      "metadata": {
        "colab": {
          "base_uri": "https://localhost:8080/",
          "height": 235
        },
        "id": "bxFnXlOQk4KB",
        "outputId": "1a791d79-2e2e-4c67-b570-a2155337dce9"
      },
      "execution_count": null,
      "outputs": [
        {
          "output_type": "execute_result",
          "data": {
            "text/plain": [
              "  label  1  2  3  4  5  6  7  8  9  ...  775  776  777  778  779  780  781  \\\n",
              "0     A  0  0  0  0  0  0  0  0  0  ...    0    0    0    0    0    0    0   \n",
              "1     B  0  0  0  0  0  0  0  0  0  ...    0    0    0    0    0    0    0   \n",
              "2     C  0  0  0  0  0  0  0  0  0  ...    0    0    0    0    0    0    0   \n",
              "3     D  0  0  0  0  0  0  0  0  0  ...    0    0    0    0    0    0    0   \n",
              "4     E  0  0  0  0  0  0  0  0  0  ...    0    0    0    0    0    0    0   \n",
              "\n",
              "   782  783  784  \n",
              "0    0    0    0  \n",
              "1    0    0    0  \n",
              "2    0    0    0  \n",
              "3    0    0    0  \n",
              "4    0    0    0  \n",
              "\n",
              "[5 rows x 785 columns]"
            ],
            "text/html": [
              "\n",
              "  <div id=\"df-b58ef455-cef3-4397-8466-1efd8753f2c6\" class=\"colab-df-container\">\n",
              "    <div>\n",
              "<style scoped>\n",
              "    .dataframe tbody tr th:only-of-type {\n",
              "        vertical-align: middle;\n",
              "    }\n",
              "\n",
              "    .dataframe tbody tr th {\n",
              "        vertical-align: top;\n",
              "    }\n",
              "\n",
              "    .dataframe thead th {\n",
              "        text-align: right;\n",
              "    }\n",
              "</style>\n",
              "<table border=\"1\" class=\"dataframe\">\n",
              "  <thead>\n",
              "    <tr style=\"text-align: right;\">\n",
              "      <th></th>\n",
              "      <th>label</th>\n",
              "      <th>1</th>\n",
              "      <th>2</th>\n",
              "      <th>3</th>\n",
              "      <th>4</th>\n",
              "      <th>5</th>\n",
              "      <th>6</th>\n",
              "      <th>7</th>\n",
              "      <th>8</th>\n",
              "      <th>9</th>\n",
              "      <th>...</th>\n",
              "      <th>775</th>\n",
              "      <th>776</th>\n",
              "      <th>777</th>\n",
              "      <th>778</th>\n",
              "      <th>779</th>\n",
              "      <th>780</th>\n",
              "      <th>781</th>\n",
              "      <th>782</th>\n",
              "      <th>783</th>\n",
              "      <th>784</th>\n",
              "    </tr>\n",
              "  </thead>\n",
              "  <tbody>\n",
              "    <tr>\n",
              "      <th>0</th>\n",
              "      <td>A</td>\n",
              "      <td>0</td>\n",
              "      <td>0</td>\n",
              "      <td>0</td>\n",
              "      <td>0</td>\n",
              "      <td>0</td>\n",
              "      <td>0</td>\n",
              "      <td>0</td>\n",
              "      <td>0</td>\n",
              "      <td>0</td>\n",
              "      <td>...</td>\n",
              "      <td>0</td>\n",
              "      <td>0</td>\n",
              "      <td>0</td>\n",
              "      <td>0</td>\n",
              "      <td>0</td>\n",
              "      <td>0</td>\n",
              "      <td>0</td>\n",
              "      <td>0</td>\n",
              "      <td>0</td>\n",
              "      <td>0</td>\n",
              "    </tr>\n",
              "    <tr>\n",
              "      <th>1</th>\n",
              "      <td>B</td>\n",
              "      <td>0</td>\n",
              "      <td>0</td>\n",
              "      <td>0</td>\n",
              "      <td>0</td>\n",
              "      <td>0</td>\n",
              "      <td>0</td>\n",
              "      <td>0</td>\n",
              "      <td>0</td>\n",
              "      <td>0</td>\n",
              "      <td>...</td>\n",
              "      <td>0</td>\n",
              "      <td>0</td>\n",
              "      <td>0</td>\n",
              "      <td>0</td>\n",
              "      <td>0</td>\n",
              "      <td>0</td>\n",
              "      <td>0</td>\n",
              "      <td>0</td>\n",
              "      <td>0</td>\n",
              "      <td>0</td>\n",
              "    </tr>\n",
              "    <tr>\n",
              "      <th>2</th>\n",
              "      <td>C</td>\n",
              "      <td>0</td>\n",
              "      <td>0</td>\n",
              "      <td>0</td>\n",
              "      <td>0</td>\n",
              "      <td>0</td>\n",
              "      <td>0</td>\n",
              "      <td>0</td>\n",
              "      <td>0</td>\n",
              "      <td>0</td>\n",
              "      <td>...</td>\n",
              "      <td>0</td>\n",
              "      <td>0</td>\n",
              "      <td>0</td>\n",
              "      <td>0</td>\n",
              "      <td>0</td>\n",
              "      <td>0</td>\n",
              "      <td>0</td>\n",
              "      <td>0</td>\n",
              "      <td>0</td>\n",
              "      <td>0</td>\n",
              "    </tr>\n",
              "    <tr>\n",
              "      <th>3</th>\n",
              "      <td>D</td>\n",
              "      <td>0</td>\n",
              "      <td>0</td>\n",
              "      <td>0</td>\n",
              "      <td>0</td>\n",
              "      <td>0</td>\n",
              "      <td>0</td>\n",
              "      <td>0</td>\n",
              "      <td>0</td>\n",
              "      <td>0</td>\n",
              "      <td>...</td>\n",
              "      <td>0</td>\n",
              "      <td>0</td>\n",
              "      <td>0</td>\n",
              "      <td>0</td>\n",
              "      <td>0</td>\n",
              "      <td>0</td>\n",
              "      <td>0</td>\n",
              "      <td>0</td>\n",
              "      <td>0</td>\n",
              "      <td>0</td>\n",
              "    </tr>\n",
              "    <tr>\n",
              "      <th>4</th>\n",
              "      <td>E</td>\n",
              "      <td>0</td>\n",
              "      <td>0</td>\n",
              "      <td>0</td>\n",
              "      <td>0</td>\n",
              "      <td>0</td>\n",
              "      <td>0</td>\n",
              "      <td>0</td>\n",
              "      <td>0</td>\n",
              "      <td>0</td>\n",
              "      <td>...</td>\n",
              "      <td>0</td>\n",
              "      <td>0</td>\n",
              "      <td>0</td>\n",
              "      <td>0</td>\n",
              "      <td>0</td>\n",
              "      <td>0</td>\n",
              "      <td>0</td>\n",
              "      <td>0</td>\n",
              "      <td>0</td>\n",
              "      <td>0</td>\n",
              "    </tr>\n",
              "  </tbody>\n",
              "</table>\n",
              "<p>5 rows × 785 columns</p>\n",
              "</div>\n",
              "    <div class=\"colab-df-buttons\">\n",
              "\n",
              "  <div class=\"colab-df-container\">\n",
              "    <button class=\"colab-df-convert\" onclick=\"convertToInteractive('df-b58ef455-cef3-4397-8466-1efd8753f2c6')\"\n",
              "            title=\"Convert this dataframe to an interactive table.\"\n",
              "            style=\"display:none;\">\n",
              "\n",
              "  <svg xmlns=\"http://www.w3.org/2000/svg\" height=\"24px\" viewBox=\"0 -960 960 960\">\n",
              "    <path d=\"M120-120v-720h720v720H120Zm60-500h600v-160H180v160Zm220 220h160v-160H400v160Zm0 220h160v-160H400v160ZM180-400h160v-160H180v160Zm440 0h160v-160H620v160ZM180-180h160v-160H180v160Zm440 0h160v-160H620v160Z\"/>\n",
              "  </svg>\n",
              "    </button>\n",
              "\n",
              "  <style>\n",
              "    .colab-df-container {\n",
              "      display:flex;\n",
              "      gap: 12px;\n",
              "    }\n",
              "\n",
              "    .colab-df-convert {\n",
              "      background-color: #E8F0FE;\n",
              "      border: none;\n",
              "      border-radius: 50%;\n",
              "      cursor: pointer;\n",
              "      display: none;\n",
              "      fill: #1967D2;\n",
              "      height: 32px;\n",
              "      padding: 0 0 0 0;\n",
              "      width: 32px;\n",
              "    }\n",
              "\n",
              "    .colab-df-convert:hover {\n",
              "      background-color: #E2EBFA;\n",
              "      box-shadow: 0px 1px 2px rgba(60, 64, 67, 0.3), 0px 1px 3px 1px rgba(60, 64, 67, 0.15);\n",
              "      fill: #174EA6;\n",
              "    }\n",
              "\n",
              "    .colab-df-buttons div {\n",
              "      margin-bottom: 4px;\n",
              "    }\n",
              "\n",
              "    [theme=dark] .colab-df-convert {\n",
              "      background-color: #3B4455;\n",
              "      fill: #D2E3FC;\n",
              "    }\n",
              "\n",
              "    [theme=dark] .colab-df-convert:hover {\n",
              "      background-color: #434B5C;\n",
              "      box-shadow: 0px 1px 3px 1px rgba(0, 0, 0, 0.15);\n",
              "      filter: drop-shadow(0px 1px 2px rgba(0, 0, 0, 0.3));\n",
              "      fill: #FFFFFF;\n",
              "    }\n",
              "  </style>\n",
              "\n",
              "    <script>\n",
              "      const buttonEl =\n",
              "        document.querySelector('#df-b58ef455-cef3-4397-8466-1efd8753f2c6 button.colab-df-convert');\n",
              "      buttonEl.style.display =\n",
              "        google.colab.kernel.accessAllowed ? 'block' : 'none';\n",
              "\n",
              "      async function convertToInteractive(key) {\n",
              "        const element = document.querySelector('#df-b58ef455-cef3-4397-8466-1efd8753f2c6');\n",
              "        const dataTable =\n",
              "          await google.colab.kernel.invokeFunction('convertToInteractive',\n",
              "                                                    [key], {});\n",
              "        if (!dataTable) return;\n",
              "\n",
              "        const docLinkHtml = 'Like what you see? Visit the ' +\n",
              "          '<a target=\"_blank\" href=https://colab.research.google.com/notebooks/data_table.ipynb>data table notebook</a>'\n",
              "          + ' to learn more about interactive tables.';\n",
              "        element.innerHTML = '';\n",
              "        dataTable['output_type'] = 'display_data';\n",
              "        await google.colab.output.renderOutput(dataTable, element);\n",
              "        const docLink = document.createElement('div');\n",
              "        docLink.innerHTML = docLinkHtml;\n",
              "        element.appendChild(docLink);\n",
              "      }\n",
              "    </script>\n",
              "  </div>\n",
              "\n",
              "\n",
              "<div id=\"df-acbe6508-474b-4962-bbad-5ee7d83b11b6\">\n",
              "  <button class=\"colab-df-quickchart\" onclick=\"quickchart('df-acbe6508-474b-4962-bbad-5ee7d83b11b6')\"\n",
              "            title=\"Suggest charts\"\n",
              "            style=\"display:none;\">\n",
              "\n",
              "<svg xmlns=\"http://www.w3.org/2000/svg\" height=\"24px\"viewBox=\"0 0 24 24\"\n",
              "     width=\"24px\">\n",
              "    <g>\n",
              "        <path d=\"M19 3H5c-1.1 0-2 .9-2 2v14c0 1.1.9 2 2 2h14c1.1 0 2-.9 2-2V5c0-1.1-.9-2-2-2zM9 17H7v-7h2v7zm4 0h-2V7h2v10zm4 0h-2v-4h2v4z\"/>\n",
              "    </g>\n",
              "</svg>\n",
              "  </button>\n",
              "\n",
              "<style>\n",
              "  .colab-df-quickchart {\n",
              "      --bg-color: #E8F0FE;\n",
              "      --fill-color: #1967D2;\n",
              "      --hover-bg-color: #E2EBFA;\n",
              "      --hover-fill-color: #174EA6;\n",
              "      --disabled-fill-color: #AAA;\n",
              "      --disabled-bg-color: #DDD;\n",
              "  }\n",
              "\n",
              "  [theme=dark] .colab-df-quickchart {\n",
              "      --bg-color: #3B4455;\n",
              "      --fill-color: #D2E3FC;\n",
              "      --hover-bg-color: #434B5C;\n",
              "      --hover-fill-color: #FFFFFF;\n",
              "      --disabled-bg-color: #3B4455;\n",
              "      --disabled-fill-color: #666;\n",
              "  }\n",
              "\n",
              "  .colab-df-quickchart {\n",
              "    background-color: var(--bg-color);\n",
              "    border: none;\n",
              "    border-radius: 50%;\n",
              "    cursor: pointer;\n",
              "    display: none;\n",
              "    fill: var(--fill-color);\n",
              "    height: 32px;\n",
              "    padding: 0;\n",
              "    width: 32px;\n",
              "  }\n",
              "\n",
              "  .colab-df-quickchart:hover {\n",
              "    background-color: var(--hover-bg-color);\n",
              "    box-shadow: 0 1px 2px rgba(60, 64, 67, 0.3), 0 1px 3px 1px rgba(60, 64, 67, 0.15);\n",
              "    fill: var(--button-hover-fill-color);\n",
              "  }\n",
              "\n",
              "  .colab-df-quickchart-complete:disabled,\n",
              "  .colab-df-quickchart-complete:disabled:hover {\n",
              "    background-color: var(--disabled-bg-color);\n",
              "    fill: var(--disabled-fill-color);\n",
              "    box-shadow: none;\n",
              "  }\n",
              "\n",
              "  .colab-df-spinner {\n",
              "    border: 2px solid var(--fill-color);\n",
              "    border-color: transparent;\n",
              "    border-bottom-color: var(--fill-color);\n",
              "    animation:\n",
              "      spin 1s steps(1) infinite;\n",
              "  }\n",
              "\n",
              "  @keyframes spin {\n",
              "    0% {\n",
              "      border-color: transparent;\n",
              "      border-bottom-color: var(--fill-color);\n",
              "      border-left-color: var(--fill-color);\n",
              "    }\n",
              "    20% {\n",
              "      border-color: transparent;\n",
              "      border-left-color: var(--fill-color);\n",
              "      border-top-color: var(--fill-color);\n",
              "    }\n",
              "    30% {\n",
              "      border-color: transparent;\n",
              "      border-left-color: var(--fill-color);\n",
              "      border-top-color: var(--fill-color);\n",
              "      border-right-color: var(--fill-color);\n",
              "    }\n",
              "    40% {\n",
              "      border-color: transparent;\n",
              "      border-right-color: var(--fill-color);\n",
              "      border-top-color: var(--fill-color);\n",
              "    }\n",
              "    60% {\n",
              "      border-color: transparent;\n",
              "      border-right-color: var(--fill-color);\n",
              "    }\n",
              "    80% {\n",
              "      border-color: transparent;\n",
              "      border-right-color: var(--fill-color);\n",
              "      border-bottom-color: var(--fill-color);\n",
              "    }\n",
              "    90% {\n",
              "      border-color: transparent;\n",
              "      border-bottom-color: var(--fill-color);\n",
              "    }\n",
              "  }\n",
              "</style>\n",
              "\n",
              "  <script>\n",
              "    async function quickchart(key) {\n",
              "      const quickchartButtonEl =\n",
              "        document.querySelector('#' + key + ' button');\n",
              "      quickchartButtonEl.disabled = true;  // To prevent multiple clicks.\n",
              "      quickchartButtonEl.classList.add('colab-df-spinner');\n",
              "      try {\n",
              "        const charts = await google.colab.kernel.invokeFunction(\n",
              "            'suggestCharts', [key], {});\n",
              "      } catch (error) {\n",
              "        console.error('Error during call to suggestCharts:', error);\n",
              "      }\n",
              "      quickchartButtonEl.classList.remove('colab-df-spinner');\n",
              "      quickchartButtonEl.classList.add('colab-df-quickchart-complete');\n",
              "    }\n",
              "    (() => {\n",
              "      let quickchartButtonEl =\n",
              "        document.querySelector('#df-acbe6508-474b-4962-bbad-5ee7d83b11b6 button');\n",
              "      quickchartButtonEl.style.display =\n",
              "        google.colab.kernel.accessAllowed ? 'block' : 'none';\n",
              "    })();\n",
              "  </script>\n",
              "</div>\n",
              "\n",
              "    </div>\n",
              "  </div>\n"
            ],
            "application/vnd.google.colaboratory.intrinsic+json": {
              "type": "dataframe",
              "variable_name": "filtered_df"
            }
          },
          "metadata": {},
          "execution_count": 61
        }
      ]
    },
    {
      "cell_type": "code",
      "source": [
        "# Get number of samples for each unique 'glyph_name'\n",
        "filtered_df['label'].value_counts()"
      ],
      "metadata": {
        "colab": {
          "base_uri": "https://localhost:8080/",
          "height": 489
        },
        "id": "LRynfWKjeeyR",
        "outputId": "fbd37345-5cd6-455c-bd6e-6ca37499545e"
      },
      "execution_count": null,
      "outputs": [
        {
          "output_type": "execute_result",
          "data": {
            "text/plain": [
              "label\n",
              "“    2874\n",
              "”    2873\n",
              "‘    2867\n",
              "E    2853\n",
              "e    2853\n",
              "     ... \n",
              "ञ     216\n",
              "ट     216\n",
              "ठ     216\n",
              "९     216\n",
              "ऎ     184\n",
              "Name: count, Length: 113, dtype: int64"
            ],
            "text/html": [
              "<div>\n",
              "<style scoped>\n",
              "    .dataframe tbody tr th:only-of-type {\n",
              "        vertical-align: middle;\n",
              "    }\n",
              "\n",
              "    .dataframe tbody tr th {\n",
              "        vertical-align: top;\n",
              "    }\n",
              "\n",
              "    .dataframe thead th {\n",
              "        text-align: right;\n",
              "    }\n",
              "</style>\n",
              "<table border=\"1\" class=\"dataframe\">\n",
              "  <thead>\n",
              "    <tr style=\"text-align: right;\">\n",
              "      <th></th>\n",
              "      <th>count</th>\n",
              "    </tr>\n",
              "    <tr>\n",
              "      <th>label</th>\n",
              "      <th></th>\n",
              "    </tr>\n",
              "  </thead>\n",
              "  <tbody>\n",
              "    <tr>\n",
              "      <th>“</th>\n",
              "      <td>2874</td>\n",
              "    </tr>\n",
              "    <tr>\n",
              "      <th>”</th>\n",
              "      <td>2873</td>\n",
              "    </tr>\n",
              "    <tr>\n",
              "      <th>‘</th>\n",
              "      <td>2867</td>\n",
              "    </tr>\n",
              "    <tr>\n",
              "      <th>E</th>\n",
              "      <td>2853</td>\n",
              "    </tr>\n",
              "    <tr>\n",
              "      <th>e</th>\n",
              "      <td>2853</td>\n",
              "    </tr>\n",
              "    <tr>\n",
              "      <th>...</th>\n",
              "      <td>...</td>\n",
              "    </tr>\n",
              "    <tr>\n",
              "      <th>ञ</th>\n",
              "      <td>216</td>\n",
              "    </tr>\n",
              "    <tr>\n",
              "      <th>ट</th>\n",
              "      <td>216</td>\n",
              "    </tr>\n",
              "    <tr>\n",
              "      <th>ठ</th>\n",
              "      <td>216</td>\n",
              "    </tr>\n",
              "    <tr>\n",
              "      <th>९</th>\n",
              "      <td>216</td>\n",
              "    </tr>\n",
              "    <tr>\n",
              "      <th>ऎ</th>\n",
              "      <td>184</td>\n",
              "    </tr>\n",
              "  </tbody>\n",
              "</table>\n",
              "<p>113 rows × 1 columns</p>\n",
              "</div><br><label><b>dtype:</b> int64</label>"
            ]
          },
          "metadata": {},
          "execution_count": 62
        }
      ]
    },
    {
      "cell_type": "code",
      "source": [
        "filtered_df.to_csv('filtered_df.csv', index=False)"
      ],
      "metadata": {
        "id": "By1-Vd7qmDLr"
      },
      "execution_count": null,
      "outputs": []
    },
    {
      "cell_type": "code",
      "source": [
        "import unicodedata\n",
        "\n",
        "glyph_letter = \"DEVANAGARI LETTER A\"\n",
        "glyph_matra = \"DEVANAGARI SIGN ANUSVARA\"\n",
        "unicode_letter = unicodedata.lookup(glyph_letter)\n",
        "# Get the hex code for the unicode_letter\n",
        "unicode_letter_hex = f\"0x{ord(unicode_letter):04x}\"\n",
        "unicode_matra = unicodedata.lookup(glyph_matra)\n",
        "# Get the hex code for the unicode_matra\n",
        "unicode_matra_hex = f\"0x{ord(unicode_matra):04x}\"\n",
        "print(unicode_letter_hex, unicode_matra_hex)"
      ],
      "metadata": {
        "colab": {
          "base_uri": "https://localhost:8080/"
        },
        "id": "ijWHAefKSNNy",
        "outputId": "786fd496-3032-4e84-dded-e2adbebaebdd"
      },
      "execution_count": null,
      "outputs": [
        {
          "output_type": "stream",
          "name": "stdout",
          "text": [
            "0x0905 0x0902\n"
          ]
        }
      ]
    },
    {
      "cell_type": "code",
      "source": [
        "# Using hexcode of a chracter, print the actual chracter\n",
        "print(chr(int(unicode_letter_hex, 16)) + chr(int(unicode_matra_hex, 16)))"
      ],
      "metadata": {
        "colab": {
          "base_uri": "https://localhost:8080/"
        },
        "id": "A6Y4HfLFSdaD",
        "outputId": "d8525947-c5b6-4731-f5ed-b3d383e931bd"
      },
      "execution_count": null,
      "outputs": [
        {
          "output_type": "stream",
          "name": "stdout",
          "text": [
            "अं\n"
          ]
        }
      ]
    },
    {
      "cell_type": "code",
      "source": [
        "combined_letter = chr(int(unicode_letter_hex, 16)) + chr(int(unicode_matra_hex, 16))\n",
        "print(combined_letter)\n"
      ],
      "metadata": {
        "colab": {
          "base_uri": "https://localhost:8080/"
        },
        "id": "VT1FZmb0eBk3",
        "outputId": "a00c9c83-7e5a-428e-df79-e3a0426abda1"
      },
      "execution_count": null,
      "outputs": [
        {
          "output_type": "stream",
          "name": "stdout",
          "text": [
            "अं\n"
          ]
        }
      ]
    },
    {
      "cell_type": "code",
      "source": [
        "combined_letter_hex = hex(ord(combined_letter[1]))\n",
        "print(combined_letter_hex)\n"
      ],
      "metadata": {
        "colab": {
          "base_uri": "https://localhost:8080/"
        },
        "id": "nkYMRy4gAdI6",
        "outputId": "f153b834-4ece-4756-edfc-8aebf626b802"
      },
      "execution_count": null,
      "outputs": [
        {
          "output_type": "stream",
          "name": "stdout",
          "text": [
            "0x902\n"
          ]
        }
      ]
    },
    {
      "cell_type": "code",
      "source": [
        "import os\n",
        "import pandas as pd\n",
        "alpha_csv_file = os.path.join(root_path, 'alpha.csv')\n",
        "tmp_df = pd.read_csv(alpha_csv_file)"
      ],
      "metadata": {
        "id": "70F6HqZZdH-I"
      },
      "execution_count": null,
      "outputs": []
    },
    {
      "cell_type": "code",
      "source": [
        "tmp_df.head()"
      ],
      "metadata": {
        "colab": {
          "base_uri": "https://localhost:8080/",
          "height": 235
        },
        "id": "V3rwkUp1dime",
        "outputId": "a40f0a86-82ef-4d8f-f5e1-ebb176566533",
        "collapsed": true
      },
      "execution_count": null,
      "outputs": [
        {
          "output_type": "execute_result",
          "data": {
            "text/plain": [
              "  labels    1    2    3    4    5    6    7    8    9  ...  775  776  777  \\\n",
              "0      6  0.0  0.0  0.0  0.0  0.0  0.0  0.0  0.0  0.0  ...  0.0  0.0  0.0   \n",
              "1      D  0.0  0.0  0.0  0.0  0.0  0.0  0.0  0.0  0.0  ...  0.0  0.0  0.0   \n",
              "2      f  0.0  0.0  0.0  0.0  0.0  0.0  0.0  0.0  0.0  ...  0.0  0.0  0.0   \n",
              "3      /  0.0  0.0  0.0  0.0  0.0  0.0  0.0  0.0  0.0  ...  0.0  0.0  0.0   \n",
              "4      F  0.0  0.0  0.0  0.0  0.0  0.0  0.0  0.0  0.0  ...  0.0  0.0  0.0   \n",
              "\n",
              "   778  779  780  781  782  783  784  \n",
              "0  0.0  0.0  0.0  0.0  0.0  0.0  0.0  \n",
              "1  0.0  0.0  0.0  0.0  0.0  0.0  0.0  \n",
              "2  0.0  0.0  0.0  0.0  0.0  0.0  0.0  \n",
              "3  0.0  0.0  0.0  0.0  0.0  0.0  0.0  \n",
              "4  0.0  0.0  0.0  0.0  0.0  0.0  0.0  \n",
              "\n",
              "[5 rows x 785 columns]"
            ],
            "text/html": [
              "\n",
              "  <div id=\"df-c7cbc8e6-1afd-4a7d-9610-4bea366ff83e\" class=\"colab-df-container\">\n",
              "    <div>\n",
              "<style scoped>\n",
              "    .dataframe tbody tr th:only-of-type {\n",
              "        vertical-align: middle;\n",
              "    }\n",
              "\n",
              "    .dataframe tbody tr th {\n",
              "        vertical-align: top;\n",
              "    }\n",
              "\n",
              "    .dataframe thead th {\n",
              "        text-align: right;\n",
              "    }\n",
              "</style>\n",
              "<table border=\"1\" class=\"dataframe\">\n",
              "  <thead>\n",
              "    <tr style=\"text-align: right;\">\n",
              "      <th></th>\n",
              "      <th>labels</th>\n",
              "      <th>1</th>\n",
              "      <th>2</th>\n",
              "      <th>3</th>\n",
              "      <th>4</th>\n",
              "      <th>5</th>\n",
              "      <th>6</th>\n",
              "      <th>7</th>\n",
              "      <th>8</th>\n",
              "      <th>9</th>\n",
              "      <th>...</th>\n",
              "      <th>775</th>\n",
              "      <th>776</th>\n",
              "      <th>777</th>\n",
              "      <th>778</th>\n",
              "      <th>779</th>\n",
              "      <th>780</th>\n",
              "      <th>781</th>\n",
              "      <th>782</th>\n",
              "      <th>783</th>\n",
              "      <th>784</th>\n",
              "    </tr>\n",
              "  </thead>\n",
              "  <tbody>\n",
              "    <tr>\n",
              "      <th>0</th>\n",
              "      <td>6</td>\n",
              "      <td>0.0</td>\n",
              "      <td>0.0</td>\n",
              "      <td>0.0</td>\n",
              "      <td>0.0</td>\n",
              "      <td>0.0</td>\n",
              "      <td>0.0</td>\n",
              "      <td>0.0</td>\n",
              "      <td>0.0</td>\n",
              "      <td>0.0</td>\n",
              "      <td>...</td>\n",
              "      <td>0.0</td>\n",
              "      <td>0.0</td>\n",
              "      <td>0.0</td>\n",
              "      <td>0.0</td>\n",
              "      <td>0.0</td>\n",
              "      <td>0.0</td>\n",
              "      <td>0.0</td>\n",
              "      <td>0.0</td>\n",
              "      <td>0.0</td>\n",
              "      <td>0.0</td>\n",
              "    </tr>\n",
              "    <tr>\n",
              "      <th>1</th>\n",
              "      <td>D</td>\n",
              "      <td>0.0</td>\n",
              "      <td>0.0</td>\n",
              "      <td>0.0</td>\n",
              "      <td>0.0</td>\n",
              "      <td>0.0</td>\n",
              "      <td>0.0</td>\n",
              "      <td>0.0</td>\n",
              "      <td>0.0</td>\n",
              "      <td>0.0</td>\n",
              "      <td>...</td>\n",
              "      <td>0.0</td>\n",
              "      <td>0.0</td>\n",
              "      <td>0.0</td>\n",
              "      <td>0.0</td>\n",
              "      <td>0.0</td>\n",
              "      <td>0.0</td>\n",
              "      <td>0.0</td>\n",
              "      <td>0.0</td>\n",
              "      <td>0.0</td>\n",
              "      <td>0.0</td>\n",
              "    </tr>\n",
              "    <tr>\n",
              "      <th>2</th>\n",
              "      <td>f</td>\n",
              "      <td>0.0</td>\n",
              "      <td>0.0</td>\n",
              "      <td>0.0</td>\n",
              "      <td>0.0</td>\n",
              "      <td>0.0</td>\n",
              "      <td>0.0</td>\n",
              "      <td>0.0</td>\n",
              "      <td>0.0</td>\n",
              "      <td>0.0</td>\n",
              "      <td>...</td>\n",
              "      <td>0.0</td>\n",
              "      <td>0.0</td>\n",
              "      <td>0.0</td>\n",
              "      <td>0.0</td>\n",
              "      <td>0.0</td>\n",
              "      <td>0.0</td>\n",
              "      <td>0.0</td>\n",
              "      <td>0.0</td>\n",
              "      <td>0.0</td>\n",
              "      <td>0.0</td>\n",
              "    </tr>\n",
              "    <tr>\n",
              "      <th>3</th>\n",
              "      <td>/</td>\n",
              "      <td>0.0</td>\n",
              "      <td>0.0</td>\n",
              "      <td>0.0</td>\n",
              "      <td>0.0</td>\n",
              "      <td>0.0</td>\n",
              "      <td>0.0</td>\n",
              "      <td>0.0</td>\n",
              "      <td>0.0</td>\n",
              "      <td>0.0</td>\n",
              "      <td>...</td>\n",
              "      <td>0.0</td>\n",
              "      <td>0.0</td>\n",
              "      <td>0.0</td>\n",
              "      <td>0.0</td>\n",
              "      <td>0.0</td>\n",
              "      <td>0.0</td>\n",
              "      <td>0.0</td>\n",
              "      <td>0.0</td>\n",
              "      <td>0.0</td>\n",
              "      <td>0.0</td>\n",
              "    </tr>\n",
              "    <tr>\n",
              "      <th>4</th>\n",
              "      <td>F</td>\n",
              "      <td>0.0</td>\n",
              "      <td>0.0</td>\n",
              "      <td>0.0</td>\n",
              "      <td>0.0</td>\n",
              "      <td>0.0</td>\n",
              "      <td>0.0</td>\n",
              "      <td>0.0</td>\n",
              "      <td>0.0</td>\n",
              "      <td>0.0</td>\n",
              "      <td>...</td>\n",
              "      <td>0.0</td>\n",
              "      <td>0.0</td>\n",
              "      <td>0.0</td>\n",
              "      <td>0.0</td>\n",
              "      <td>0.0</td>\n",
              "      <td>0.0</td>\n",
              "      <td>0.0</td>\n",
              "      <td>0.0</td>\n",
              "      <td>0.0</td>\n",
              "      <td>0.0</td>\n",
              "    </tr>\n",
              "  </tbody>\n",
              "</table>\n",
              "<p>5 rows × 785 columns</p>\n",
              "</div>\n",
              "    <div class=\"colab-df-buttons\">\n",
              "\n",
              "  <div class=\"colab-df-container\">\n",
              "    <button class=\"colab-df-convert\" onclick=\"convertToInteractive('df-c7cbc8e6-1afd-4a7d-9610-4bea366ff83e')\"\n",
              "            title=\"Convert this dataframe to an interactive table.\"\n",
              "            style=\"display:none;\">\n",
              "\n",
              "  <svg xmlns=\"http://www.w3.org/2000/svg\" height=\"24px\" viewBox=\"0 -960 960 960\">\n",
              "    <path d=\"M120-120v-720h720v720H120Zm60-500h600v-160H180v160Zm220 220h160v-160H400v160Zm0 220h160v-160H400v160ZM180-400h160v-160H180v160Zm440 0h160v-160H620v160ZM180-180h160v-160H180v160Zm440 0h160v-160H620v160Z\"/>\n",
              "  </svg>\n",
              "    </button>\n",
              "\n",
              "  <style>\n",
              "    .colab-df-container {\n",
              "      display:flex;\n",
              "      gap: 12px;\n",
              "    }\n",
              "\n",
              "    .colab-df-convert {\n",
              "      background-color: #E8F0FE;\n",
              "      border: none;\n",
              "      border-radius: 50%;\n",
              "      cursor: pointer;\n",
              "      display: none;\n",
              "      fill: #1967D2;\n",
              "      height: 32px;\n",
              "      padding: 0 0 0 0;\n",
              "      width: 32px;\n",
              "    }\n",
              "\n",
              "    .colab-df-convert:hover {\n",
              "      background-color: #E2EBFA;\n",
              "      box-shadow: 0px 1px 2px rgba(60, 64, 67, 0.3), 0px 1px 3px 1px rgba(60, 64, 67, 0.15);\n",
              "      fill: #174EA6;\n",
              "    }\n",
              "\n",
              "    .colab-df-buttons div {\n",
              "      margin-bottom: 4px;\n",
              "    }\n",
              "\n",
              "    [theme=dark] .colab-df-convert {\n",
              "      background-color: #3B4455;\n",
              "      fill: #D2E3FC;\n",
              "    }\n",
              "\n",
              "    [theme=dark] .colab-df-convert:hover {\n",
              "      background-color: #434B5C;\n",
              "      box-shadow: 0px 1px 3px 1px rgba(0, 0, 0, 0.15);\n",
              "      filter: drop-shadow(0px 1px 2px rgba(0, 0, 0, 0.3));\n",
              "      fill: #FFFFFF;\n",
              "    }\n",
              "  </style>\n",
              "\n",
              "    <script>\n",
              "      const buttonEl =\n",
              "        document.querySelector('#df-c7cbc8e6-1afd-4a7d-9610-4bea366ff83e button.colab-df-convert');\n",
              "      buttonEl.style.display =\n",
              "        google.colab.kernel.accessAllowed ? 'block' : 'none';\n",
              "\n",
              "      async function convertToInteractive(key) {\n",
              "        const element = document.querySelector('#df-c7cbc8e6-1afd-4a7d-9610-4bea366ff83e');\n",
              "        const dataTable =\n",
              "          await google.colab.kernel.invokeFunction('convertToInteractive',\n",
              "                                                    [key], {});\n",
              "        if (!dataTable) return;\n",
              "\n",
              "        const docLinkHtml = 'Like what you see? Visit the ' +\n",
              "          '<a target=\"_blank\" href=https://colab.research.google.com/notebooks/data_table.ipynb>data table notebook</a>'\n",
              "          + ' to learn more about interactive tables.';\n",
              "        element.innerHTML = '';\n",
              "        dataTable['output_type'] = 'display_data';\n",
              "        await google.colab.output.renderOutput(dataTable, element);\n",
              "        const docLink = document.createElement('div');\n",
              "        docLink.innerHTML = docLinkHtml;\n",
              "        element.appendChild(docLink);\n",
              "      }\n",
              "    </script>\n",
              "  </div>\n",
              "\n",
              "\n",
              "<div id=\"df-7c51b1bc-5bf8-4325-a113-ee00d0b5c7b2\">\n",
              "  <button class=\"colab-df-quickchart\" onclick=\"quickchart('df-7c51b1bc-5bf8-4325-a113-ee00d0b5c7b2')\"\n",
              "            title=\"Suggest charts\"\n",
              "            style=\"display:none;\">\n",
              "\n",
              "<svg xmlns=\"http://www.w3.org/2000/svg\" height=\"24px\"viewBox=\"0 0 24 24\"\n",
              "     width=\"24px\">\n",
              "    <g>\n",
              "        <path d=\"M19 3H5c-1.1 0-2 .9-2 2v14c0 1.1.9 2 2 2h14c1.1 0 2-.9 2-2V5c0-1.1-.9-2-2-2zM9 17H7v-7h2v7zm4 0h-2V7h2v10zm4 0h-2v-4h2v4z\"/>\n",
              "    </g>\n",
              "</svg>\n",
              "  </button>\n",
              "\n",
              "<style>\n",
              "  .colab-df-quickchart {\n",
              "      --bg-color: #E8F0FE;\n",
              "      --fill-color: #1967D2;\n",
              "      --hover-bg-color: #E2EBFA;\n",
              "      --hover-fill-color: #174EA6;\n",
              "      --disabled-fill-color: #AAA;\n",
              "      --disabled-bg-color: #DDD;\n",
              "  }\n",
              "\n",
              "  [theme=dark] .colab-df-quickchart {\n",
              "      --bg-color: #3B4455;\n",
              "      --fill-color: #D2E3FC;\n",
              "      --hover-bg-color: #434B5C;\n",
              "      --hover-fill-color: #FFFFFF;\n",
              "      --disabled-bg-color: #3B4455;\n",
              "      --disabled-fill-color: #666;\n",
              "  }\n",
              "\n",
              "  .colab-df-quickchart {\n",
              "    background-color: var(--bg-color);\n",
              "    border: none;\n",
              "    border-radius: 50%;\n",
              "    cursor: pointer;\n",
              "    display: none;\n",
              "    fill: var(--fill-color);\n",
              "    height: 32px;\n",
              "    padding: 0;\n",
              "    width: 32px;\n",
              "  }\n",
              "\n",
              "  .colab-df-quickchart:hover {\n",
              "    background-color: var(--hover-bg-color);\n",
              "    box-shadow: 0 1px 2px rgba(60, 64, 67, 0.3), 0 1px 3px 1px rgba(60, 64, 67, 0.15);\n",
              "    fill: var(--button-hover-fill-color);\n",
              "  }\n",
              "\n",
              "  .colab-df-quickchart-complete:disabled,\n",
              "  .colab-df-quickchart-complete:disabled:hover {\n",
              "    background-color: var(--disabled-bg-color);\n",
              "    fill: var(--disabled-fill-color);\n",
              "    box-shadow: none;\n",
              "  }\n",
              "\n",
              "  .colab-df-spinner {\n",
              "    border: 2px solid var(--fill-color);\n",
              "    border-color: transparent;\n",
              "    border-bottom-color: var(--fill-color);\n",
              "    animation:\n",
              "      spin 1s steps(1) infinite;\n",
              "  }\n",
              "\n",
              "  @keyframes spin {\n",
              "    0% {\n",
              "      border-color: transparent;\n",
              "      border-bottom-color: var(--fill-color);\n",
              "      border-left-color: var(--fill-color);\n",
              "    }\n",
              "    20% {\n",
              "      border-color: transparent;\n",
              "      border-left-color: var(--fill-color);\n",
              "      border-top-color: var(--fill-color);\n",
              "    }\n",
              "    30% {\n",
              "      border-color: transparent;\n",
              "      border-left-color: var(--fill-color);\n",
              "      border-top-color: var(--fill-color);\n",
              "      border-right-color: var(--fill-color);\n",
              "    }\n",
              "    40% {\n",
              "      border-color: transparent;\n",
              "      border-right-color: var(--fill-color);\n",
              "      border-top-color: var(--fill-color);\n",
              "    }\n",
              "    60% {\n",
              "      border-color: transparent;\n",
              "      border-right-color: var(--fill-color);\n",
              "    }\n",
              "    80% {\n",
              "      border-color: transparent;\n",
              "      border-right-color: var(--fill-color);\n",
              "      border-bottom-color: var(--fill-color);\n",
              "    }\n",
              "    90% {\n",
              "      border-color: transparent;\n",
              "      border-bottom-color: var(--fill-color);\n",
              "    }\n",
              "  }\n",
              "</style>\n",
              "\n",
              "  <script>\n",
              "    async function quickchart(key) {\n",
              "      const quickchartButtonEl =\n",
              "        document.querySelector('#' + key + ' button');\n",
              "      quickchartButtonEl.disabled = true;  // To prevent multiple clicks.\n",
              "      quickchartButtonEl.classList.add('colab-df-spinner');\n",
              "      try {\n",
              "        const charts = await google.colab.kernel.invokeFunction(\n",
              "            'suggestCharts', [key], {});\n",
              "      } catch (error) {\n",
              "        console.error('Error during call to suggestCharts:', error);\n",
              "      }\n",
              "      quickchartButtonEl.classList.remove('colab-df-spinner');\n",
              "      quickchartButtonEl.classList.add('colab-df-quickchart-complete');\n",
              "    }\n",
              "    (() => {\n",
              "      let quickchartButtonEl =\n",
              "        document.querySelector('#df-7c51b1bc-5bf8-4325-a113-ee00d0b5c7b2 button');\n",
              "      quickchartButtonEl.style.display =\n",
              "        google.colab.kernel.accessAllowed ? 'block' : 'none';\n",
              "    })();\n",
              "  </script>\n",
              "</div>\n",
              "\n",
              "    </div>\n",
              "  </div>\n"
            ],
            "application/vnd.google.colaboratory.intrinsic+json": {
              "type": "dataframe",
              "variable_name": "tmp_df"
            }
          },
          "metadata": {},
          "execution_count": 4
        }
      ]
    },
    {
      "cell_type": "code",
      "source": [
        "import unicodedata\n",
        "# Get unique labels from new_df\n",
        "unique_labels_df = tmp_df['labels'].unique().tolist()\n",
        "print(\"Unique labels in alpha csv:\", unique_labels_df)\n",
        "\n",
        "# Get a list of labels we dont want\n",
        "unicode_ranges = {\n",
        "    \"latin_uppercase\": (0x0041, 0x005A),\n",
        "    \"latin_lowercase\": (0x0061, 0x007A),\n",
        "}\n",
        "\n",
        "latin_alphas = []\n",
        "for script, (start, end) in unicode_ranges.items():\n",
        "    for code in range(start, end + 1):\n",
        "        unicode_character = chr(int(code))\n",
        "        latin_alphas.append(unicode_character)\n",
        "\n",
        "print(\"Latin alphas to remove: \", latin_alphas)"
      ],
      "metadata": {
        "colab": {
          "base_uri": "https://localhost:8080/"
        },
        "id": "pqLTlrRwk-ju",
        "outputId": "8871c201-c4e3-4c7a-8250-e5c22d7fce67"
      },
      "execution_count": null,
      "outputs": [
        {
          "output_type": "stream",
          "name": "stdout",
          "text": [
            "Unique labels in alpha csv: ['6', 'D', 'f', '/', 'F', 'x', 'J', '8', 'H', 'k', '@', '1', '=', 'g', ')', '2', 'd', '^', '3', 't', '#', '.', '4', 'o', '\"', 'y', 'A', 'u', 'G', '-', 'm', 'W', '&', 'c', '9', 'N', ']', 'P', 'X', '|', '}', 'h', '7', 'j', '5', '>', '?', 'b', '*', 'w', 'l', '0', '$', 'I', 'Y', '%', ':', 'T', 'K', 'E', '<', 'V', '{', 'M', 'S', 'a', 'i', 'r', \"'\", 'p', ';', '[', '+', 'e', 'U', '(', 's', '~', ',', 'C', 'q', '_', 'n', 'B', 'z', 'v', 'O', 'R', '`', 'Z', 'Q', 'L', '!', '\\\\']\n",
            "Latin alphas to remove:  ['A', 'B', 'C', 'D', 'E', 'F', 'G', 'H', 'I', 'J', 'K', 'L', 'M', 'N', 'O', 'P', 'Q', 'R', 'S', 'T', 'U', 'V', 'W', 'X', 'Y', 'Z', 'a', 'b', 'c', 'd', 'e', 'f', 'g', 'h', 'i', 'j', 'k', 'l', 'm', 'n', 'o', 'p', 'q', 'r', 's', 't', 'u', 'v', 'w', 'x', 'y', 'z']\n"
          ]
        }
      ]
    },
    {
      "cell_type": "code",
      "source": [
        "# Save samples for punctuation and special characters in another df\n",
        "# Do this by filtering out samples from tmp_df that have label in latin_alphas\n",
        "spl_char_df = tmp_df[~tmp_df['labels'].isin(latin_alphas)]\n",
        "print(\"Labels in spl_char_df: \", spl_char_df['labels'].unique().tolist())\n",
        "\n",
        "# Change column name labels to label in spl_char_df\n",
        "spl_char_df = spl_char_df.rename(columns={'labels': 'label'})\n",
        "# Save spl_char_df to a csv file\n",
        "spl_char_df.to_csv('spl_char_df.csv', index=False)"
      ],
      "metadata": {
        "colab": {
          "base_uri": "https://localhost:8080/"
        },
        "id": "krqMA7WgpC56",
        "outputId": "4912ba20-65e4-45fe-e493-d67a44f68e6c"
      },
      "execution_count": null,
      "outputs": [
        {
          "output_type": "stream",
          "name": "stdout",
          "text": [
            "Labels in spl_char_df:  ['6', '/', '8', '@', '1', '=', ')', '2', '^', '3', '#', '.', '4', '\"', '-', '&', '9', ']', '|', '}', '7', '5', '>', '?', '*', '0', '$', '%', ':', '<', '{', \"'\", ';', '[', '+', '(', '~', ',', '_', '`', '!', '\\\\']\n"
          ]
        }
      ]
    },
    {
      "cell_type": "code",
      "source": [
        "# Load filtered_df.csv and combine it with spl_char_df\n",
        "import os\n",
        "import pandas as pd\n",
        "filtered_df_file = os.path.join(root_path, 'filtered_df.csv')\n",
        "filtered_df = pd.read_csv(filtered_df_file)\n",
        "\n",
        "# Combine filtered_df and spl_char_df into a single dataframe\n",
        "combined_df = pd.concat([filtered_df, spl_char_df], ignore_index=True)\n",
        "\n",
        "# Save combined_df to a csv\n",
        "combined_df.to_csv('combined_df.csv', index=False)"
      ],
      "metadata": {
        "id": "NSH-jn-mmnhk"
      },
      "execution_count": null,
      "outputs": []
    },
    {
      "cell_type": "code",
      "source": [
        "# Construct and save images as glyphs from combined_df\n",
        "import pandas as pd\n",
        "import numpy as np\n",
        "from PIL import Image\n",
        "import os\n",
        "import uuid\n",
        "\n",
        "# Load the combined_df.csv file\n",
        "csv_path = os.path.join(root_path, 'spl_char_df.csv')\n",
        "combined_df = pd.read_csv(csv_path)\n",
        "# Directory to save images\n",
        "output_dir = os.path.join(root_path, 'glyph_images')\n",
        "os.makedirs(output_dir, exist_ok=True)"
      ],
      "metadata": {
        "id": "m139f6iLwcXT"
      },
      "execution_count": null,
      "outputs": []
    },
    {
      "cell_type": "code",
      "source": [
        "import uuid\n",
        "# Iterate over each row in the DataFrame\n",
        "for index, row in combined_df.iterrows():\n",
        "    # Reshape the 784 pixel values into a 28x28 array\n",
        "    pixel_values = row[1:].values.astype(np.uint8).reshape((28, 28))\n",
        "\n",
        "    # Create an image from the array\n",
        "    img = Image.fromarray(pixel_values, mode='L')  # 'L' mode is for grayscale\n",
        "\n",
        "    # Generate random image file name using UUID\n",
        "    random_filename = str(uuid.uuid4()) + \".png\"\n",
        "\n",
        "    label = row['label']\n",
        "\n",
        "    if label not in ['\\'', '\\\"']:\n",
        "      # Create a directory for each font if needed\n",
        "      label_dir = os.path.join(output_dir, label)\n",
        "      os.makedirs(label_dir, exist_ok=True)\n",
        "\n",
        "      # Save the image\n",
        "      img_path = os.path.join(label_dir, f'{random_filename}')\n",
        "      img.save(img_path)\n",
        "\n",
        "print(f'Images saved in {output_dir} directory.')"
      ],
      "metadata": {
        "colab": {
          "base_uri": "https://localhost:8080/"
        },
        "id": "gTaVx2OptsfP",
        "outputId": "1c0f2b1a-9148-4901-f356-6cddc6664520"
      },
      "execution_count": null,
      "outputs": [
        {
          "output_type": "stream",
          "name": "stdout",
          "text": [
            "Images saved in drive/MyDrive/Colab Notebooks/glyph_images directory.\n"
          ]
        }
      ]
    },
    {
      "cell_type": "code",
      "source": [
        "del combined_df\n",
        "import gc\n",
        "gc.collect()\n"
      ],
      "metadata": {
        "colab": {
          "base_uri": "https://localhost:8080/"
        },
        "id": "CdXFU3NIeWUr",
        "outputId": "4978fd3e-4279-4d93-d27e-acf5e3b27509"
      },
      "execution_count": null,
      "outputs": [
        {
          "output_type": "execute_result",
          "data": {
            "text/plain": [
              "55366"
            ]
          },
          "metadata": {},
          "execution_count": 28
        }
      ]
    },
    {
      "cell_type": "code",
      "source": [
        "%cd /content"
      ],
      "metadata": {
        "colab": {
          "base_uri": "https://localhost:8080/"
        },
        "id": "UQdx5Lwlen_R",
        "outputId": "129a5bcb-22f3-4da3-c8c2-217d6a757bef"
      },
      "execution_count": null,
      "outputs": [
        {
          "output_type": "stream",
          "name": "stdout",
          "text": [
            "/content\n"
          ]
        }
      ]
    },
    {
      "cell_type": "code",
      "source": [
        "!ls"
      ],
      "metadata": {
        "colab": {
          "base_uri": "https://localhost:8080/"
        },
        "id": "Cn_ux8YvOvUi",
        "outputId": "192cfef4-ac13-42cb-93e3-1fe669ca9b28"
      },
      "execution_count": null,
      "outputs": [
        {
          "output_type": "stream",
          "name": "stdout",
          "text": [
            "'!'   +   '>'   _    ’\t  0   ३   7   A   dot   h   K   o   R   v   Y   ऊ   औ   छ   ढ   प   व\n",
            "'#'   ,   '?'  '`'   “\t  ०   4   ७   b   e     H   l   O   s   V   z   ऋ   क   ज   ण   फ   श\n",
            " %    -    @   '{'   ”\t  1   ४   8   B   E     i   L   p   S   w   Z   ॠ   ख   झ   त   ब   ष\n",
            "'&'   :   '['  '|'  '$'   १   5   ८   c   f     I   m   P   t   W   अँ   ऌ   ग   ञ   थ   भ   स\n",
            "'('  ';'  '\\'  '}'   ₪\t  2   ५   9   C   F     j   M   q   T   x   अं   ॡ   घ   ट   द   य   ह\n",
            "')'  '<'   ]   '~'   €\t  २   6   ९   d   g     J   n   Q   u   X   आ   ऎ   ङ   ठ   ध   र\n",
            "'*'  '='  '^'   ‘    ₹\t  3   ६   a   D   G     k   N   r   U   y   ई   ऐ   च   ड   न   ळ\n"
          ]
        }
      ]
    },
    {
      "cell_type": "markdown",
      "source": [
        "## Load Dataset"
      ],
      "metadata": {
        "id": "i3Inv35sX43w"
      }
    },
    {
      "cell_type": "code",
      "source": [
        "from torchvision.datasets import ImageFolder\n",
        "from torch.utils.data import DataLoader\n",
        "import os\n",
        "# Load dataset from glyph_images using imagefolder for multiclass classification\n",
        "dataset_dir = os.path.join(root_path, 'glyph_images')\n",
        "dataset = ImageFolder(root=dataset_dir)"
      ],
      "metadata": {
        "id": "GKbh6LobVCut"
      },
      "execution_count": null,
      "outputs": []
    },
    {
      "cell_type": "code",
      "source": [
        "print(f\"The number of classes in our dataset: {len(dataset.classes)}\")\n",
        "print(f\"The number of samples in our dataset: {len(dataset)}\")"
      ],
      "metadata": {
        "colab": {
          "base_uri": "https://localhost:8080/"
        },
        "id": "YLSeN_C4X3XD",
        "outputId": "a5537639-5854-4c75-ae4d-4b7c60030e91"
      },
      "execution_count": null,
      "outputs": [
        {
          "output_type": "stream",
          "name": "stdout",
          "text": [
            "The number of classes in our dataset: 152\n",
            "The number of samples in our dataset: 218253\n"
          ]
        }
      ]
    },
    {
      "cell_type": "code",
      "source": [
        "import matplotlib.pyplot as plt\n",
        "from collections import Counter\n",
        "\n",
        "# Get the labels (numeric) for each image in the dataset\n",
        "labels = [label for _, label in dataset.imgs]\n",
        "\n",
        "# Count the frequency of each label\n",
        "label_counts = Counter(labels)\n",
        "\n",
        "# Get the class names from the dataset\n",
        "class_names = {v: k for k, v in dataset.class_to_idx.items()}\n",
        "\n",
        "# Convert numeric labels back to class names\n",
        "class_counts = {class_names[k]: v for k, v in label_counts.items()}\n",
        "\n",
        "# Sort classes by frequency\n",
        "sorted_class_counts = dict(sorted(class_counts.items(), key=lambda item: item[1], reverse=True))\n",
        "\n",
        "# Plot the class frequencies\n",
        "plt.figure(figsize=(15, 10))\n",
        "plt.bar(range(len(sorted_class_counts)), list(sorted_class_counts.values()), tick_label=list(sorted_class_counts.keys()), color='skyblue')\n",
        "plt.xticks(rotation=90)\n",
        "plt.xlabel('Class')\n",
        "plt.ylabel('Number of Images')\n",
        "plt.title('Class Frequency in Dataset')\n",
        "plt.show()\n"
      ],
      "metadata": {
        "colab": {
          "base_uri": "https://localhost:8080/",
          "height": 617
        },
        "id": "6sR4_c6oYgK8",
        "outputId": "972787f9-9114-48ac-abc8-eef8517332da"
      },
      "execution_count": null,
      "outputs": [
        {
          "output_type": "display_data",
          "data": {
            "text/plain": [
              "<Figure size 1500x1000 with 1 Axes>"
            ],
            "image/png": "[encoded data removed]"
          },
          "metadata": {}
        }
      ]
    },
    {
      "cell_type": "code",
      "source": [
        "from collections import Counter\n",
        "import random\n",
        "\n",
        "# Step 1: Count the number of samples for each class\n",
        "labels = [label for _, label in dataset.imgs]\n",
        "label_counts = Counter(labels)\n",
        "\n",
        "# Step 2: Filter and balance the dataset\n",
        "balanced_imgs = []\n",
        "\n",
        "for label, count in label_counts.items():\n",
        "    if count > 100:\n",
        "        # Get all images for this label\n",
        "        img_paths = [(img_path, lbl) for img_path, lbl in dataset.imgs if lbl == label]\n",
        "        # Randomly select 300 images\n",
        "        selected_imgs = random.sample(img_paths, 100)\n",
        "        balanced_imgs.extend(selected_imgs)\n",
        "    else:\n",
        "        # If the class has 300 or fewer samples, include all\n",
        "        img_paths = [(img_path, lbl) for img_path, lbl in dataset.imgs if lbl == label]\n",
        "        balanced_imgs.extend(img_paths)\n",
        "\n",
        "# Step 3: Create a new balanced dataset\n",
        "balanced_dataset = [(img_path, lbl) for img_path, lbl in balanced_imgs]\n",
        "\n",
        "# Verify the balance by counting again\n",
        "balanced_label_counts = Counter([lbl for _, lbl in balanced_dataset])\n",
        "for label, count in balanced_label_counts.items():\n",
        "    print(f'Class: {dataset.classes[label]}, Number of samples: {count}')\n"
      ],
      "metadata": {
        "colab": {
          "base_uri": "https://localhost:8080/"
        },
        "collapsed": true,
        "id": "gNq61gnvazEz",
        "outputId": "d10206c8-0995-424f-cd4f-73f16198e36e"
      },
      "execution_count": null,
      "outputs": [
        {
          "output_type": "stream",
          "name": "stdout",
          "text": [
            "Class: !, Number of samples: 100\n",
            "Class: #, Number of samples: 100\n",
            "Class: $, Number of samples: 100\n",
            "Class: %, Number of samples: 100\n",
            "Class: &, Number of samples: 100\n",
            "Class: (, Number of samples: 100\n",
            "Class: ), Number of samples: 100\n",
            "Class: *, Number of samples: 100\n",
            "Class: +, Number of samples: 100\n",
            "Class: ,, Number of samples: 100\n",
            "Class: -, Number of samples: 100\n",
            "Class: 0, Number of samples: 100\n",
            "Class: 1, Number of samples: 100\n",
            "Class: 2, Number of samples: 100\n",
            "Class: 3, Number of samples: 100\n",
            "Class: 4, Number of samples: 100\n",
            "Class: 5, Number of samples: 100\n",
            "Class: 6, Number of samples: 100\n",
            "Class: 7, Number of samples: 100\n",
            "Class: 8, Number of samples: 100\n",
            "Class: 9, Number of samples: 100\n",
            "Class: :, Number of samples: 100\n",
            "Class: ;, Number of samples: 100\n",
            "Class: <, Number of samples: 100\n",
            "Class: =, Number of samples: 100\n",
            "Class: >, Number of samples: 100\n",
            "Class: ?, Number of samples: 100\n",
            "Class: @, Number of samples: 100\n",
            "Class: A, Number of samples: 100\n",
            "Class: B, Number of samples: 100\n",
            "Class: C, Number of samples: 100\n",
            "Class: D, Number of samples: 100\n",
            "Class: E, Number of samples: 100\n",
            "Class: F, Number of samples: 100\n",
            "Class: G, Number of samples: 100\n",
            "Class: H, Number of samples: 100\n",
            "Class: I, Number of samples: 100\n",
            "Class: J, Number of samples: 100\n",
            "Class: K, Number of samples: 100\n",
            "Class: L, Number of samples: 100\n",
            "Class: M, Number of samples: 100\n",
            "Class: N, Number of samples: 100\n",
            "Class: O, Number of samples: 100\n",
            "Class: P, Number of samples: 100\n",
            "Class: Q, Number of samples: 100\n",
            "Class: R, Number of samples: 100\n",
            "Class: S, Number of samples: 100\n",
            "Class: T, Number of samples: 100\n",
            "Class: U, Number of samples: 100\n",
            "Class: V, Number of samples: 100\n",
            "Class: W, Number of samples: 100\n",
            "Class: X, Number of samples: 100\n",
            "Class: Y, Number of samples: 100\n",
            "Class: Z, Number of samples: 100\n",
            "Class: [, Number of samples: 100\n",
            "Class: \\, Number of samples: 100\n",
            "Class: ], Number of samples: 100\n",
            "Class: ^, Number of samples: 100\n",
            "Class: _, Number of samples: 100\n",
            "Class: `, Number of samples: 100\n",
            "Class: a, Number of samples: 100\n",
            "Class: b, Number of samples: 100\n",
            "Class: c, Number of samples: 100\n",
            "Class: d, Number of samples: 100\n",
            "Class: dot, Number of samples: 100\n",
            "Class: e, Number of samples: 100\n",
            "Class: f, Number of samples: 100\n",
            "Class: g, Number of samples: 100\n",
            "Class: h, Number of samples: 100\n",
            "Class: i, Number of samples: 100\n",
            "Class: j, Number of samples: 100\n",
            "Class: k, Number of samples: 100\n",
            "Class: l, Number of samples: 100\n",
            "Class: m, Number of samples: 100\n",
            "Class: n, Number of samples: 100\n",
            "Class: o, Number of samples: 100\n",
            "Class: p, Number of samples: 100\n",
            "Class: q, Number of samples: 100\n",
            "Class: r, Number of samples: 100\n",
            "Class: s, Number of samples: 100\n",
            "Class: t, Number of samples: 100\n",
            "Class: u, Number of samples: 100\n",
            "Class: v, Number of samples: 100\n",
            "Class: w, Number of samples: 100\n",
            "Class: x, Number of samples: 100\n",
            "Class: y, Number of samples: 100\n",
            "Class: z, Number of samples: 100\n",
            "Class: {, Number of samples: 100\n",
            "Class: |, Number of samples: 100\n",
            "Class: }, Number of samples: 100\n",
            "Class: ~, Number of samples: 100\n",
            "Class: अँ, Number of samples: 100\n",
            "Class: अं, Number of samples: 100\n",
            "Class: आ, Number of samples: 100\n",
            "Class: ई, Number of samples: 100\n",
            "Class: ऊ, Number of samples: 100\n",
            "Class: ऋ, Number of samples: 100\n",
            "Class: ऌ, Number of samples: 100\n",
            "Class: ऎ, Number of samples: 100\n",
            "Class: ऐ, Number of samples: 100\n",
            "Class: औ, Number of samples: 100\n",
            "Class: क, Number of samples: 100\n",
            "Class: ख, Number of samples: 100\n",
            "Class: ग, Number of samples: 100\n",
            "Class: घ, Number of samples: 100\n",
            "Class: ङ, Number of samples: 100\n",
            "Class: च, Number of samples: 100\n",
            "Class: छ, Number of samples: 100\n",
            "Class: ज, Number of samples: 100\n",
            "Class: झ, Number of samples: 100\n",
            "Class: ञ, Number of samples: 100\n",
            "Class: ट, Number of samples: 100\n",
            "Class: ठ, Number of samples: 100\n",
            "Class: ड, Number of samples: 100\n",
            "Class: ढ, Number of samples: 100\n",
            "Class: ण, Number of samples: 100\n",
            "Class: त, Number of samples: 100\n",
            "Class: थ, Number of samples: 100\n",
            "Class: द, Number of samples: 100\n",
            "Class: ध, Number of samples: 100\n",
            "Class: न, Number of samples: 100\n",
            "Class: प, Number of samples: 100\n",
            "Class: फ, Number of samples: 100\n",
            "Class: ब, Number of samples: 100\n",
            "Class: भ, Number of samples: 100\n",
            "Class: य, Number of samples: 100\n",
            "Class: र, Number of samples: 100\n",
            "Class: ळ, Number of samples: 100\n",
            "Class: व, Number of samples: 100\n",
            "Class: श, Number of samples: 100\n",
            "Class: ष, Number of samples: 100\n",
            "Class: स, Number of samples: 100\n",
            "Class: ह, Number of samples: 100\n",
            "Class: ॠ, Number of samples: 100\n",
            "Class: ॡ, Number of samples: 100\n",
            "Class: ०, Number of samples: 100\n",
            "Class: १, Number of samples: 100\n",
            "Class: २, Number of samples: 100\n",
            "Class: ३, Number of samples: 100\n",
            "Class: ४, Number of samples: 100\n",
            "Class: ५, Number of samples: 100\n",
            "Class: ६, Number of samples: 100\n",
            "Class: ७, Number of samples: 100\n",
            "Class: ८, Number of samples: 100\n",
            "Class: ९, Number of samples: 100\n",
            "Class: ‘, Number of samples: 100\n",
            "Class: ’, Number of samples: 100\n",
            "Class: “, Number of samples: 100\n",
            "Class: ”, Number of samples: 100\n",
            "Class: ₪, Number of samples: 100\n",
            "Class: €, Number of samples: 100\n",
            "Class: ₹, Number of samples: 100\n"
          ]
        }
      ]
    },
    {
      "cell_type": "code",
      "source": [
        "# Save for easy reload\n",
        "import pickle\n",
        "\n",
        "# Save balanced dataset to a pickle file\n",
        "pickle_file = os.path.join(root_path, 'balanced_dataset_100.pkl')\n",
        "\n",
        "with open(pickle_file, 'wb') as file:\n",
        "    pickle.dump(balanced_dataset, file)\n",
        "\n",
        "print(f\"Balanced dataset saved to {pickle_file}.\")\n"
      ],
      "metadata": {
        "colab": {
          "base_uri": "https://localhost:8080/"
        },
        "id": "7iHGNsOJi1G6",
        "outputId": "ad92eafc-9378-4213-a98d-8197e8125dce"
      },
      "execution_count": null,
      "outputs": [
        {
          "output_type": "stream",
          "name": "stdout",
          "text": [
            "Balanced dataset saved to drive/MyDrive/Colab Notebooks/balanced_dataset_100.pkl.\n"
          ]
        }
      ]
    },
    {
      "cell_type": "code",
      "source": [
        "# Convert it into an ImageFolder Dataset\n",
        "from torch.utils.data import Dataset\n",
        "from PIL import Image\n",
        "from torchvision import transforms\n",
        "\n",
        "class CustomImageDataset(Dataset):\n",
        "    def __init__(self, img_paths_labels, transform=None):\n",
        "        self.img_paths_labels = img_paths_labels\n",
        "        self.transform = transform\n",
        "\n",
        "    def __len__(self):\n",
        "        return len(self.img_paths_labels)\n",
        "\n",
        "    def __getitem__(self, idx):\n",
        "        img_path, label = self.img_paths_labels[idx]\n",
        "        image = Image.open(img_path).convert('RGB')\n",
        "\n",
        "        if self.transform:\n",
        "            image = self.transform(image)\n",
        "\n",
        "        return image, label\n",
        "\n",
        "transform = transforms.Compose([transforms.ToTensor()])\n",
        "\n",
        "'''\n",
        "Augmentations to be added later dependin on model performance\n",
        "\n",
        "transform = transforms.Compose([\n",
        "    transforms.RandomResizedCrop(28, scale=(0.8, 1.0)),  # Random crop and resize to 28x28\n",
        "    transforms.RandomHorizontalFlip(),  # Random horizontal flip\n",
        "    transforms.RandomRotation(10),  # Random rotation by ±10 degrees\n",
        "    transforms.ColorJitter(brightness=0.2, contrast=0.2, saturation=0.2, hue=0.1),  # Color jitter\n",
        "    transforms.ToTensor(),  # Convert to tensor\n",
        "    transforms.Normalize(mean=[0.5], std=[0.5])  # Normalize the image\n",
        "])\n",
        "'''\n",
        "balanced_custom_dataset = CustomImageDataset(balanced_dataset, transform=transform)\n"
      ],
      "metadata": {
        "id": "EWtNFFIBRq09"
      },
      "execution_count": null,
      "outputs": []
    },
    {
      "cell_type": "code",
      "source": [
        "# Before we can use this dataset for fine-tuning VLP, we must update class name\n",
        "\n",
        "dot_idx = dataset.class_to_idx['dot']\n",
        "new_class_name = '.'\n",
        "\n",
        "# Remove the old 'dot' entry and add new class name at same idx\n",
        "del dataset.class_to_idx['dot']\n",
        "dataset.class_to_idx[new_class_name] = dot_idx\n",
        "\n",
        "# Update the class names list\n",
        "dataset.classes[dot_idx] = new_class_name"
      ],
      "metadata": {
        "colab": {
          "base_uri": "https://localhost:8080/",
          "height": 211
        },
        "id": "TgeC1GKxkEfg",
        "outputId": "06280120-6d85-4249-ec62-294cb9e1a4b4"
      },
      "execution_count": null,
      "outputs": [
        {
          "output_type": "error",
          "ename": "KeyError",
          "evalue": "'dot'",
          "traceback": [
            "\u001b[0;31m---------------------------------------------------------------------------\u001b[0m",
            "\u001b[0;31mKeyError\u001b[0m                                  Traceback (most recent call last)",
            "\u001b[0;32m<ipython-input-41-0471905cb1d6>\u001b[0m in \u001b[0;36m<cell line: 3>\u001b[0;34m()\u001b[0m\n\u001b[1;32m      1\u001b[0m \u001b[0;31m# Before we can use this dataset for fine-tuning VLP, we must update class name\u001b[0m\u001b[0;34m\u001b[0m\u001b[0;34m\u001b[0m\u001b[0m\n\u001b[1;32m      2\u001b[0m \u001b[0;34m\u001b[0m\u001b[0m\n\u001b[0;32m----> 3\u001b[0;31m \u001b[0mdot_idx\u001b[0m \u001b[0;34m=\u001b[0m \u001b[0mdataset\u001b[0m\u001b[0;34m.\u001b[0m\u001b[0mclass_to_idx\u001b[0m\u001b[0;34m[\u001b[0m\u001b[0;34m'dot'\u001b[0m\u001b[0;34m]\u001b[0m\u001b[0;34m\u001b[0m\u001b[0;34m\u001b[0m\u001b[0m\n\u001b[0m\u001b[1;32m      4\u001b[0m \u001b[0mnew_class_name\u001b[0m \u001b[0;34m=\u001b[0m \u001b[0;34m'.'\u001b[0m\u001b[0;34m\u001b[0m\u001b[0;34m\u001b[0m\u001b[0m\n\u001b[1;32m      5\u001b[0m \u001b[0;34m\u001b[0m\u001b[0m\n",
            "\u001b[0;31mKeyError\u001b[0m: 'dot'"
          ]
        }
      ]
    },
    {
      "cell_type": "code",
      "source": [
        "balanced_dataset = [\n",
        "    (img_path, dot_idx if label == dot_idx else label)\n",
        "    for img_path, label in balanced_dataset\n",
        "]"
      ],
      "metadata": {
        "id": "XTbrY66Rc46b"
      },
      "execution_count": null,
      "outputs": []
    },
    {
      "cell_type": "code",
      "source": [
        "balanced_custom_dataset = CustomImageDataset(balanced_dataset, transform=transform)"
      ],
      "metadata": {
        "id": "zvXKqv7Qe_8f"
      },
      "execution_count": null,
      "outputs": []
    },
    {
      "cell_type": "code",
      "source": [
        "import pickle\n",
        "\n",
        "# Define the file path to save the dataset\n",
        "pickle_file = 'balanced_custom_dataset.pkl'\n",
        "\n",
        "# Save the custom balanced dataset as a pickle file\n",
        "with open(pickle_file, 'wb') as f:\n",
        "    pickle.dump(balanced_custom_dataset.img_paths_labels, f)\n",
        "\n",
        "print(f\"Balanced custom dataset saved to {pickle_file}.\")"
      ],
      "metadata": {
        "colab": {
          "base_uri": "https://localhost:8080/"
        },
        "id": "SZoIFbWgfE57",
        "outputId": "c8399c98-033c-4153-e7c1-83880ce8a746"
      },
      "execution_count": null,
      "outputs": [
        {
          "output_type": "stream",
          "name": "stdout",
          "text": [
            "Balanced custom dataset saved to balanced_custom_dataset.pkl.\n"
          ]
        }
      ]
    },
    {
      "cell_type": "code",
      "source": [
        "import pickle\n",
        "with open('balanced_custom_dataset.pkl', 'rb') as f:\n",
        "    img_paths_labels = pickle.load(f)\n",
        "\n",
        "balanced_custom_dataset = CustomImageDataset(img_paths_labels, transform=transform)\n"
      ],
      "metadata": {
        "id": "bzXMwiXXf2jU"
      },
      "execution_count": null,
      "outputs": []
    },
    {
      "cell_type": "markdown",
      "source": [
        "# Hindi Letter x Matra dataset"
      ],
      "metadata": {
        "id": "l4Dnm9P3fwB5"
      }
    },
    {
      "cell_type": "code",
      "source": [
        "# Let us now add hindi letter x matra combined characters\n",
        "import pandas as pd\n",
        "import numpy as np\n",
        "from PIL import Image, ImageDraw, ImageFont\n",
        "\n",
        "# List of Devanagari base letters and matras\n",
        "base_letters = ['क', 'ख', 'ग', 'घ', 'च', 'छ', 'ज', 'झ', 'ट', 'ठ',\n",
        "                'ड', 'ढ', 'त', 'थ', 'द', 'ध', 'न', 'प', 'फ', 'ब',\n",
        "                'भ', 'म', 'य', 'र', 'ल', 'व', 'श', 'ष', 'स', 'ह']\n",
        "\n",
        "matras = ['ा', 'ि', 'ी', 'ु', 'ू', 'े', 'ै', 'ो', 'ौ', 'ं', 'ः']\n",
        "\n",
        "# Path to a Devanagari font file (.ttf or .otf)\n",
        "font_path = 'path/to/Devanagari-font.ttf'  # Update this with the correct path to your Devanagari font file\n",
        "\n",
        "# Initialize a list to store the flattened images\n",
        "data = []\n",
        "\n",
        "# Create a 28x28 grayscale image for each combination\n",
        "for base in base_letters:\n",
        "    for matra in matras:\n",
        "        combined_char = base + matra\n",
        "\n",
        "        # Create a blank 28x28 grayscale image\n",
        "        image = Image.new('L', (28, 28), color=255)  # 'L' mode is for grayscale\n",
        "\n",
        "        # Load the font and set the size\n",
        "        font = ImageFont.truetype(font_path, 24)  # Adjust the font size if needed\n",
        "\n",
        "        # Create a drawing context\n",
        "        draw = ImageDraw.Draw(image)\n",
        "\n",
        "        # Calculate the position to center the text\n",
        "        text_size = draw.textsize(combined_char, font=font)\n",
        "        position = ((28 - text_size[0]) // 2, (28 - text_size[1]) // 2)\n",
        "\n",
        "        # Draw the text onto the image\n",
        "        draw.text(position, combined_char, fill=0, font=font)\n",
        "\n",
        "        # Resize to 28x28 pixels (already set, but for safety)\n",
        "        image = image.resize((28, 28))\n",
        "\n",
        "        # Flatten the image into a 1D array\n",
        "        flattened_image = np.array(image).flatten()\n",
        "\n",
        "        # Store the label and flattened image\n",
        "        row = [combined_char] + flattened_image.tolist()\n",
        "        data.append(row)\n",
        "\n",
        "# Create a DataFrame from the data\n",
        "columns = ['label'] + [str(i) for i in range(1, 785)]\n",
        "df_combined = pd.DataFrame(data, columns=columns)\n",
        "\n",
        "# Save to a CSV file (optional)\n",
        "df_combined.to_csv('combined_characters.csv', index=False)\n"
      ],
      "metadata": {
        "id": "AM4gYluDlG8M"
      },
      "execution_count": null,
      "outputs": []
    },
    {
      "cell_type": "markdown",
      "source": [
        "# Glyph Extraxtion from PDF"
      ],
      "metadata": {
        "id": "YLHeqtpHSSmt"
      }
    },
    {
      "cell_type": "code",
      "source": [
        "!pip install pymupdf"
      ],
      "metadata": {
        "colab": {
          "base_uri": "https://localhost:8080/"
        },
        "id": "CTmhVWLipi21",
        "outputId": "a6eef2dd-ee90-4f00-8be6-f37a6efd7c3f"
      },
      "execution_count": null,
      "outputs": [
        {
          "output_type": "stream",
          "name": "stdout",
          "text": [
            "Collecting pymupdf\n",
            "  Downloading PyMuPDF-1.24.10-cp310-none-manylinux2014_x86_64.whl.metadata (3.4 kB)\n",
            "Collecting PyMuPDFb==1.24.10 (from pymupdf)\n",
            "  Downloading PyMuPDFb-1.24.10-py3-none-manylinux2014_x86_64.manylinux_2_17_x86_64.whl.metadata (1.4 kB)\n",
            "Downloading PyMuPDF-1.24.10-cp310-none-manylinux2014_x86_64.whl (3.5 MB)\n",
            "\u001b[2K   \u001b[90m━━━━━━━━━━━━━━━━━━━━━━━━━━━━━━━━━━━━━━━━\u001b[0m \u001b[32m3.5/3.5 MB\u001b[0m \u001b[31m8.5 MB/s\u001b[0m eta \u001b[36m0:00:00\u001b[0m\n",
            "\u001b[?25hDownloading PyMuPDFb-1.24.10-py3-none-manylinux2014_x86_64.manylinux_2_17_x86_64.whl (15.9 MB)\n",
            "\u001b[2K   \u001b[90m━━━━━━━━━━━━━━━━━━━━━━━━━━━━━━━━━━━━━━━━\u001b[0m \u001b[32m15.9/15.9 MB\u001b[0m \u001b[31m21.1 MB/s\u001b[0m eta \u001b[36m0:00:00\u001b[0m\n",
            "\u001b[?25hInstalling collected packages: PyMuPDFb, pymupdf\n",
            "Successfully installed PyMuPDFb-1.24.10 pymupdf-1.24.10\n"
          ]
        }
      ]
    },
    {
      "cell_type": "code",
      "source": [
        "import fitz  # PyMuPDF\n",
        "import torch\n",
        "from PIL import Image\n",
        "from torchvision import transforms\n",
        "\n",
        "def extract_glyphs_from_pdf(pdf_path):\n",
        "    pdf_document = fitz.open(pdf_path)\n",
        "    glyph_images = []\n",
        "\n",
        "    for page_num in range(len(pdf_document)):\n",
        "        page = pdf_document[page_num]\n",
        "        blocks = page.get_text(\"dict\")[\"blocks\"]\n",
        "\n",
        "        for block in blocks:\n",
        "            if \"lines\" in block:\n",
        "                for line in block[\"lines\"]:\n",
        "                    for span in line[\"spans\"]:\n",
        "                        bbox = span[\"bbox\"]\n",
        "\n",
        "                        # Extract glyph image from bounding box\n",
        "                        x0, y0, x1, y1 = bbox\n",
        "                        rect = fitz.Rect(x0, y0, x1, y1)\n",
        "                        pix = page.get_pixmap(clip=rect)\n",
        "\n",
        "                        # Convert pixmap to PIL Image\n",
        "                        img = Image.frombytes(\"RGB\", [pix.width, pix.height], pix.samples)\n",
        "                        glyph_images.append(img)\n",
        "\n",
        "    return glyph_images\n",
        "\n",
        "def classify_glyphs(glyph_images, model, transform):\n",
        "    classified_text = \"\"\n",
        "\n",
        "    for img in glyph_images:\n",
        "        img = transform(img).unsqueeze(0)  # Apply transformations and add batch dimension\n",
        "        with torch.no_grad():\n",
        "            output = model(img)\n",
        "            _, predicted = torch.max(output, 1)\n",
        "            unicode_char = chr(predicted.item())\n",
        "            classified_text += unicode_char\n",
        "\n",
        "    return classified_text\n",
        "\n",
        "def save_classified_text(text, output_path):\n",
        "    with open(output_path, \"w\", encoding=\"utf-8\") as f:\n",
        "        f.write(text)\n",
        "    print(f\"Classified text saved to {output_path}\")\n",
        "\n",
        "# Example usage\n",
        "pdf_path = \"./hindi_text_file.pdf\"\n",
        "output_path = \"hindi_text.txt\"\n"
      ],
      "metadata": {
        "id": "jqhQXh7YSXIQ"
      },
      "execution_count": null,
      "outputs": []
    },
    {
      "cell_type": "code",
      "source": [
        "glyph_images = extract_glyphs_from_pdf(pdf_path)"
      ],
      "metadata": {
        "id": "hIlPmcO9pO5C"
      },
      "execution_count": null,
      "outputs": []
    },
    {
      "cell_type": "code",
      "source": [
        "glyph_images[11]"
      ],
      "metadata": {
        "colab": {
          "base_uri": "https://localhost:8080/",
          "height": 40
        },
        "id": "M1KdwhfVxQo8",
        "outputId": "8608ea9e-f42e-4fb0-f7ec-a1e52520ebaf"
      },
      "execution_count": null,
      "outputs": [
        {
          "output_type": "execute_result",
          "data": {
            "text/plain": [
              "<PIL.Image.Image image mode=RGB size=458x23>"
            ],
            "image/png": "[encoded data removed]"
          },
          "metadata": {},
          "execution_count": 49
        }
      ]
    }
  ]
}